{
 "cells": [
  {
   "cell_type": "code",
   "execution_count": 1,
   "id": "91786cd2",
   "metadata": {
    "execution": {
     "iopub.execute_input": "2022-05-10T13:33:43.366922Z",
     "iopub.status.busy": "2022-05-10T13:33:43.365938Z",
     "iopub.status.idle": "2022-05-10T13:33:55.232773Z",
     "shell.execute_reply": "2022-05-10T13:33:55.231887Z",
     "shell.execute_reply.started": "2022-05-10T12:46:47.423753Z"
    },
    "papermill": {
     "duration": 11.915186,
     "end_time": "2022-05-10T13:33:55.232953",
     "exception": false,
     "start_time": "2022-05-10T13:33:43.317767",
     "status": "completed"
    },
    "tags": []
   },
   "outputs": [],
   "source": [
    "import string\n",
    "\n",
    "import matplotlib.pyplot as plt\n",
    "import nltk\n",
    "import seaborn as sns\n",
    "import sklearn.model_selection as model_selection\n",
    "from sklearn.metrics import confusion_matrix\n",
    "\n",
    "import gensim\n",
    "import unicodedata\n",
    "\n",
    "from nltk.corpus import stopwords\n",
    "from nltk.stem import PorterStemmer, SnowballStemmer\n",
    "\n",
    "from sklearn.feature_extraction.text import (CountVectorizer, HashingVectorizer, TfidfVectorizer)\n",
    "from imblearn.over_sampling import SMOTE\n",
    "\n",
    "# from xgboost import XGBClassifier\n",
    "from sklearn.linear_model import LogisticRegression\n",
    "from sklearn.svm import LinearSVC\n",
    "from sklearn.decomposition import PCA, TruncatedSVD\n",
    "\n",
    "\n",
    "from torch.utils.data import Dataset, DataLoader\n",
    "import pytorch_lightning as pl\n",
    "from pathlib import Path\n",
    "\n",
    "\n",
    "from transformers import (\n",
    "    AdamW,\n",
    "    T5ForConditionalGeneration,\n",
    "    T5TokenizerFast as T5Tokenizer\n",
    ")\n",
    "from tqdm.auto import tqdm"
   ]
  },
  {
   "cell_type": "code",
   "execution_count": 2,
   "id": "d2ad2b2b",
   "metadata": {
    "_cell_guid": "b1076dfc-b9ad-4769-8c92-a6c4dae69d19",
    "_uuid": "8f2839f25d086af736a60e9eeb907d3b93b6e0e5",
    "execution": {
     "iopub.execute_input": "2022-05-10T13:33:55.298660Z",
     "iopub.status.busy": "2022-05-10T13:33:55.297617Z",
     "iopub.status.idle": "2022-05-10T13:33:55.312077Z",
     "shell.execute_reply": "2022-05-10T13:33:55.312655Z",
     "shell.execute_reply.started": "2022-05-10T12:46:58.374448Z"
    },
    "papermill": {
     "duration": 0.048687,
     "end_time": "2022-05-10T13:33:55.312843",
     "exception": false,
     "start_time": "2022-05-10T13:33:55.264156",
     "status": "completed"
    },
    "tags": []
   },
   "outputs": [
    {
     "name": "stdout",
     "output_type": "stream",
     "text": [
      "/kaggle/input/news-summary/news_summary_more.csv\n",
      "/kaggle/input/news-summary/news_summary.csv\n"
     ]
    }
   ],
   "source": [
    "# This Python 3 environment comes with many helpful analytics libraries installed\n",
    "# It is defined by the kaggle/python Docker image: https://github.com/kaggle/docker-python\n",
    "# For example, here's several helpful packages to load\n",
    "\n",
    "import numpy as np # linear algebra\n",
    "import pandas as pd # data processing, CSV file I/O (e.g. pd.read_csv)\n",
    "\n",
    "# Input data files are available in the read-only \"../input/\" directory\n",
    "# For example, running this (by clicking run or pressing Shift+Enter) will list all files under the input directory\n",
    "\n",
    "import os\n",
    "for dirname, _, filenames in os.walk('/kaggle/input'):\n",
    "    for filename in filenames:\n",
    "        print(os.path.join(dirname, filename))\n",
    "\n",
    "# You can write up to 20GB to the current directory (/kaggle/working/) that gets preserved as output when you create a version using \"Save & Run All\" \n",
    "# You can also write temporary files to /kaggle/temp/, but they won't be saved outside of the current session"
   ]
  },
  {
   "cell_type": "code",
   "execution_count": 3,
   "id": "55f92a52",
   "metadata": {
    "execution": {
     "iopub.execute_input": "2022-05-10T13:33:55.378966Z",
     "iopub.status.busy": "2022-05-10T13:33:55.377895Z",
     "iopub.status.idle": "2022-05-10T13:33:55.664920Z",
     "shell.execute_reply": "2022-05-10T13:33:55.665465Z",
     "shell.execute_reply.started": "2022-05-10T12:46:58.390987Z"
    },
    "papermill": {
     "duration": 0.321576,
     "end_time": "2022-05-10T13:33:55.665656",
     "exception": false,
     "start_time": "2022-05-10T13:33:55.344080",
     "status": "completed"
    },
    "tags": []
   },
   "outputs": [
    {
     "data": {
      "text/html": [
       "<div>\n",
       "<style scoped>\n",
       "    .dataframe tbody tr th:only-of-type {\n",
       "        vertical-align: middle;\n",
       "    }\n",
       "\n",
       "    .dataframe tbody tr th {\n",
       "        vertical-align: top;\n",
       "    }\n",
       "\n",
       "    .dataframe thead th {\n",
       "        text-align: right;\n",
       "    }\n",
       "</style>\n",
       "<table border=\"1\" class=\"dataframe\">\n",
       "  <thead>\n",
       "    <tr style=\"text-align: right;\">\n",
       "      <th></th>\n",
       "      <th>author</th>\n",
       "      <th>date</th>\n",
       "      <th>headlines</th>\n",
       "      <th>read_more</th>\n",
       "      <th>text</th>\n",
       "      <th>ctext</th>\n",
       "    </tr>\n",
       "  </thead>\n",
       "  <tbody>\n",
       "    <tr>\n",
       "      <th>0</th>\n",
       "      <td>Chhavi Tyagi</td>\n",
       "      <td>03 Aug 2017,Thursday</td>\n",
       "      <td>Daman &amp; Diu revokes mandatory Rakshabandhan in...</td>\n",
       "      <td>http://www.hindustantimes.com/india-news/raksh...</td>\n",
       "      <td>The Administration of Union Territory Daman an...</td>\n",
       "      <td>The Daman and Diu administration on Wednesday ...</td>\n",
       "    </tr>\n",
       "  </tbody>\n",
       "</table>\n",
       "</div>"
      ],
      "text/plain": [
       "         author                  date  \\\n",
       "0  Chhavi Tyagi  03 Aug 2017,Thursday   \n",
       "\n",
       "                                           headlines  \\\n",
       "0  Daman & Diu revokes mandatory Rakshabandhan in...   \n",
       "\n",
       "                                           read_more  \\\n",
       "0  http://www.hindustantimes.com/india-news/raksh...   \n",
       "\n",
       "                                                text  \\\n",
       "0  The Administration of Union Territory Daman an...   \n",
       "\n",
       "                                               ctext  \n",
       "0  The Daman and Diu administration on Wednesday ...  "
      ]
     },
     "execution_count": 3,
     "metadata": {},
     "output_type": "execute_result"
    }
   ],
   "source": [
    "df = pd.read_csv(\"../input/news-summary/news_summary.csv\", encoding = \"latin-1\")\n",
    "df.head(1)"
   ]
  },
  {
   "cell_type": "code",
   "execution_count": 4,
   "id": "59e463c4",
   "metadata": {
    "execution": {
     "iopub.execute_input": "2022-05-10T13:33:55.732418Z",
     "iopub.status.busy": "2022-05-10T13:33:55.731373Z",
     "iopub.status.idle": "2022-05-10T13:33:56.804913Z",
     "shell.execute_reply": "2022-05-10T13:33:56.804348Z",
     "shell.execute_reply.started": "2022-05-10T12:46:58.747153Z"
    },
    "papermill": {
     "duration": 1.107956,
     "end_time": "2022-05-10T13:33:56.805082",
     "exception": false,
     "start_time": "2022-05-10T13:33:55.697126",
     "status": "completed"
    },
    "tags": []
   },
   "outputs": [
    {
     "data": {
      "text/html": [
       "<div>\n",
       "<style scoped>\n",
       "    .dataframe tbody tr th:only-of-type {\n",
       "        vertical-align: middle;\n",
       "    }\n",
       "\n",
       "    .dataframe tbody tr th {\n",
       "        vertical-align: top;\n",
       "    }\n",
       "\n",
       "    .dataframe thead th {\n",
       "        text-align: right;\n",
       "    }\n",
       "</style>\n",
       "<table border=\"1\" class=\"dataframe\">\n",
       "  <thead>\n",
       "    <tr style=\"text-align: right;\">\n",
       "      <th></th>\n",
       "      <th>headlines</th>\n",
       "      <th>text</th>\n",
       "    </tr>\n",
       "  </thead>\n",
       "  <tbody>\n",
       "    <tr>\n",
       "      <th>0</th>\n",
       "      <td>upGrad learner switches to career in ML &amp; Al w...</td>\n",
       "      <td>Saurav Kant, an alumnus of upGrad and IIIT-B's...</td>\n",
       "    </tr>\n",
       "  </tbody>\n",
       "</table>\n",
       "</div>"
      ],
      "text/plain": [
       "                                           headlines  \\\n",
       "0  upGrad learner switches to career in ML & Al w...   \n",
       "\n",
       "                                                text  \n",
       "0  Saurav Kant, an alumnus of upGrad and IIIT-B's...  "
      ]
     },
     "execution_count": 4,
     "metadata": {},
     "output_type": "execute_result"
    }
   ],
   "source": [
    "more_df = pd.read_csv('../input/news-summary/news_summary_more.csv')\n",
    "more_df.head(1)"
   ]
  },
  {
   "cell_type": "code",
   "execution_count": 5,
   "id": "30e36f37",
   "metadata": {
    "execution": {
     "iopub.execute_input": "2022-05-10T13:33:56.873316Z",
     "iopub.status.busy": "2022-05-10T13:33:56.872217Z",
     "iopub.status.idle": "2022-05-10T13:33:56.885585Z",
     "shell.execute_reply": "2022-05-10T13:33:56.884977Z",
     "shell.execute_reply.started": "2022-05-10T12:47:00.028198Z"
    },
    "papermill": {
     "duration": 0.048739,
     "end_time": "2022-05-10T13:33:56.885749",
     "exception": false,
     "start_time": "2022-05-10T13:33:56.837010",
     "status": "completed"
    },
    "tags": []
   },
   "outputs": [
    {
     "data": {
      "text/html": [
       "<div>\n",
       "<style scoped>\n",
       "    .dataframe tbody tr th:only-of-type {\n",
       "        vertical-align: middle;\n",
       "    }\n",
       "\n",
       "    .dataframe tbody tr th {\n",
       "        vertical-align: top;\n",
       "    }\n",
       "\n",
       "    .dataframe thead th {\n",
       "        text-align: right;\n",
       "    }\n",
       "</style>\n",
       "<table border=\"1\" class=\"dataframe\">\n",
       "  <thead>\n",
       "    <tr style=\"text-align: right;\">\n",
       "      <th></th>\n",
       "      <th>headlines</th>\n",
       "      <th>text</th>\n",
       "    </tr>\n",
       "  </thead>\n",
       "  <tbody>\n",
       "    <tr>\n",
       "      <th>0</th>\n",
       "      <td>upGrad learner switches to career in ML &amp; Al w...</td>\n",
       "      <td>Saurav Kant, an alumnus of upGrad and IIIT-B's...</td>\n",
       "    </tr>\n",
       "    <tr>\n",
       "      <th>1</th>\n",
       "      <td>Delhi techie wins free food from Swiggy for on...</td>\n",
       "      <td>Kunal Shah's credit card bill payment platform...</td>\n",
       "    </tr>\n",
       "    <tr>\n",
       "      <th>2</th>\n",
       "      <td>New Zealand end Rohit Sharma-led India's 12-ma...</td>\n",
       "      <td>New Zealand defeated India by 8 wickets in the...</td>\n",
       "    </tr>\n",
       "    <tr>\n",
       "      <th>3</th>\n",
       "      <td>Aegon life iTerm insurance plan helps customer...</td>\n",
       "      <td>With Aegon Life iTerm Insurance plan, customer...</td>\n",
       "    </tr>\n",
       "    <tr>\n",
       "      <th>4</th>\n",
       "      <td>Have known Hirani for yrs, what if MeToo claim...</td>\n",
       "      <td>Speaking about the sexual harassment allegatio...</td>\n",
       "    </tr>\n",
       "    <tr>\n",
       "      <th>...</th>\n",
       "      <td>...</td>\n",
       "      <td>...</td>\n",
       "    </tr>\n",
       "    <tr>\n",
       "      <th>98396</th>\n",
       "      <td>CRPF jawan axed to death by Maoists in Chhatti...</td>\n",
       "      <td>A CRPF jawan was on Tuesday axed to death with...</td>\n",
       "    </tr>\n",
       "    <tr>\n",
       "      <th>98397</th>\n",
       "      <td>First song from Sonakshi Sinha's 'Noor' titled...</td>\n",
       "      <td>'Uff Yeh', the first song from the Sonakshi Si...</td>\n",
       "    </tr>\n",
       "    <tr>\n",
       "      <th>98398</th>\n",
       "      <td>'The Matrix' film to get a reboot: Reports</td>\n",
       "      <td>According to reports, a new version of the 199...</td>\n",
       "    </tr>\n",
       "    <tr>\n",
       "      <th>98399</th>\n",
       "      <td>Snoop Dogg aims gun at clown dressed as Trump ...</td>\n",
       "      <td>A new music video shows rapper Snoop Dogg aimi...</td>\n",
       "    </tr>\n",
       "    <tr>\n",
       "      <th>98400</th>\n",
       "      <td>Madhesi Morcha withdraws support to Nepalese g...</td>\n",
       "      <td>Madhesi Morcha, an alliance of seven political...</td>\n",
       "    </tr>\n",
       "  </tbody>\n",
       "</table>\n",
       "<p>98401 rows × 2 columns</p>\n",
       "</div>"
      ],
      "text/plain": [
       "                                               headlines  \\\n",
       "0      upGrad learner switches to career in ML & Al w...   \n",
       "1      Delhi techie wins free food from Swiggy for on...   \n",
       "2      New Zealand end Rohit Sharma-led India's 12-ma...   \n",
       "3      Aegon life iTerm insurance plan helps customer...   \n",
       "4      Have known Hirani for yrs, what if MeToo claim...   \n",
       "...                                                  ...   \n",
       "98396  CRPF jawan axed to death by Maoists in Chhatti...   \n",
       "98397  First song from Sonakshi Sinha's 'Noor' titled...   \n",
       "98398         'The Matrix' film to get a reboot: Reports   \n",
       "98399  Snoop Dogg aims gun at clown dressed as Trump ...   \n",
       "98400  Madhesi Morcha withdraws support to Nepalese g...   \n",
       "\n",
       "                                                    text  \n",
       "0      Saurav Kant, an alumnus of upGrad and IIIT-B's...  \n",
       "1      Kunal Shah's credit card bill payment platform...  \n",
       "2      New Zealand defeated India by 8 wickets in the...  \n",
       "3      With Aegon Life iTerm Insurance plan, customer...  \n",
       "4      Speaking about the sexual harassment allegatio...  \n",
       "...                                                  ...  \n",
       "98396  A CRPF jawan was on Tuesday axed to death with...  \n",
       "98397  'Uff Yeh', the first song from the Sonakshi Si...  \n",
       "98398  According to reports, a new version of the 199...  \n",
       "98399  A new music video shows rapper Snoop Dogg aimi...  \n",
       "98400  Madhesi Morcha, an alliance of seven political...  \n",
       "\n",
       "[98401 rows x 2 columns]"
      ]
     },
     "execution_count": 5,
     "metadata": {},
     "output_type": "execute_result"
    }
   ],
   "source": [
    "more_df"
   ]
  },
  {
   "cell_type": "code",
   "execution_count": 6,
   "id": "901c2529",
   "metadata": {
    "execution": {
     "iopub.execute_input": "2022-05-10T13:33:56.960754Z",
     "iopub.status.busy": "2022-05-10T13:33:56.959543Z",
     "iopub.status.idle": "2022-05-10T13:33:56.982427Z",
     "shell.execute_reply": "2022-05-10T13:33:56.982947Z",
     "shell.execute_reply.started": "2022-05-10T12:47:00.041833Z"
    },
    "papermill": {
     "duration": 0.064975,
     "end_time": "2022-05-10T13:33:56.983139",
     "exception": false,
     "start_time": "2022-05-10T13:33:56.918164",
     "status": "completed"
    },
    "tags": []
   },
   "outputs": [],
   "source": [
    "# create a preprocessing class\n",
    "class Preprocessor:\n",
    "    def __init__(self, df) -> None:\n",
    "        self.df = df\n",
    "\n",
    "    \n",
    "    # convert all charecters to lower case\n",
    "    def convertToLower(self):\n",
    "        self.df[\"headlines\"] = self.df[\"headlines\"].apply(lambda x: x.lower())\n",
    "        self.df[\"text\"] = self.df[\"text\"].apply(lambda x: x.lower())\n",
    "        return self.df\n",
    "\n",
    "    \n",
    "    # remove stop words\n",
    "    def removeStopWords(self):\n",
    "        stop = stopwords.words(\"english\")\n",
    "        self.df[\"text\"] = self.df[\"text\"].apply(\n",
    "            lambda x: \" \".join([word for word in x.split() if word not in stop])\n",
    "        )\n",
    "        self.df[\"headlines\"] = self.df[\"headlines\"].apply(\n",
    "            lambda x: \" \".join([word for word in x.split() if word not in stop])\n",
    "        )\n",
    "        return self.df\n",
    "\n",
    "\n",
    "    \n",
    "    # remove whitespaces\n",
    "    def removeWhitespaces(self):\n",
    "        self.df[\"headlines\"] = self.df[\"headlines\"].apply(\n",
    "            lambda x: \" \".join(x.split())\n",
    "        )\n",
    "        self.df[\"text\"] = self.df[\"text\"].apply(\n",
    "            lambda x: \" \".join(x.split())\n",
    "        )\n",
    "        return self.df\n",
    "    \n",
    "    \n",
    "    def removePunctuation(self):\n",
    "        self.df[\"headlines\"] = self.df[\"headlines\"].str.replace(\"[<>()|&©ø\\[\\]\\'\\\",;?~*!]\", \"\")\n",
    "        self.df[\"text\"] = self.df[\"text\"].str.replace(\"[<>()|&©ø\\[\\]\\'\\\",;?~*!]\", \"\")\n",
    "        return self.df\n",
    "        \n",
    "        \n",
    "    # remove urls\n",
    "    def removeURLs(self):\n",
    "        self.df[\"text\"] = self.df[\"text\"].str.replace(\n",
    "            \"https?://\\S+|www\\.\\S+\", \"\"\n",
    "        )\n",
    "        self.df[\"headlines\"] = self.df[\"headlines\"].str.replace(\n",
    "            \"https?://\\S+|www\\.\\S+\", \"\"\n",
    "        )\n",
    "        return self.df\n",
    "\n",
    "    \n",
    "    # snowball stemmer algorithm\n",
    "    def snowballstemmer(self):\n",
    "        stemmer = SnowballStemmer()\n",
    "\n",
    "        def stem_words(text):\n",
    "            return \" \".join([stemmer.stem(word) for word in text.split()])\n",
    "\n",
    "        self.df[\"question_text\"] = self.df[\"question_text\"].apply(\n",
    "            lambda x: stem_words(x)\n",
    "        )\n",
    "        self.df[\"question_text\"] = self.df[\"question_text\"].apply(\n",
    "            lambda x: stem_words(x)\n",
    "        )\n",
    "        return self.df\n",
    "\n",
    "    \n",
    "    # port stemmer algorithm\n",
    "    def porterstemmer(self):\n",
    "        stemmer = PorterStemmer()\n",
    "\n",
    "        def stem_words(text):\n",
    "            return \" \".join([stemmer.stem(word) for word in text.split()])\n",
    "\n",
    "        self.df[\"text\"] = self.df[\"text\"].apply(\n",
    "            lambda x: stem_words(x)\n",
    "        )\n",
    "        \n",
    "        self.df[\"headlines\"] = self.df[\"headlines\"].apply(\n",
    "            lambda x: stem_words(x)\n",
    "        )\n",
    "        return self.df\n",
    "\n",
    "    \n",
    "    # lemmatizing\n",
    "    def lemmatize(self):\n",
    "        from nltk.stem import WordNetLemmatizer\n",
    "\n",
    "        lemmatizer = WordNetLemmatizer()\n",
    "\n",
    "        def lemmatize_words(text):\n",
    "            return \" \".join([lemmatizer.lemmatize(word) for word in text.split()])\n",
    "\n",
    "        self.df[\"text\"] = self.df[\"text\"].apply(\n",
    "            lambda x: lemmatize_words(x)\n",
    "        )\n",
    "        self.df[\"headlines\"] = self.df[\"headlines\"].apply(\n",
    "            lambda x: lemmatize_words(x)\n",
    "        )\n",
    "        return self.df\n",
    "\n",
    "    \n",
    "    # word tokenization using nltk\n",
    "    def wordTokenization(self):\n",
    "        self.df[\"text\"] = self.df[\"text\"].apply(\n",
    "            lambda x: nltk.word_tokenize(x)\n",
    "        )\n",
    "        self.df[\"headlines\"] = self.df[\"headlines\"].apply(\n",
    "            lambda x: nltk.word_tokenize(x)\n",
    "        )\n",
    "        return self.df\n",
    "    \n",
    "    def removeMissingValues(self):\n",
    "        self.df = self.df.dropna()\n",
    "        return self.df\n",
    "        \n",
    "\n",
    "    def preprocess(self):\n",
    "        self.df = self.convertToLower()\n",
    "        self.df = self.removeStopWords()\n",
    "        self.df = self.removePunctuation()\n",
    "        self.df = self.removeURLs()\n",
    "        self.df = self.removeWhitespaces()\n",
    "        #self.df = self.snowballstemmer()\n",
    "        self.df = self.porterstemmer()\n",
    "        # self.df = self.lemmatize()\n",
    "        #self.df = self.wordTokenization()\n",
    "        self.df = self.removeMissingValues()\n",
    "        return self.df"
   ]
  },
  {
   "cell_type": "code",
   "execution_count": 7,
   "id": "35011b7a",
   "metadata": {
    "execution": {
     "iopub.execute_input": "2022-05-10T13:33:57.052073Z",
     "iopub.status.busy": "2022-05-10T13:33:57.051038Z",
     "iopub.status.idle": "2022-05-10T13:36:21.320764Z",
     "shell.execute_reply": "2022-05-10T13:36:21.321310Z",
     "shell.execute_reply.started": "2022-05-10T12:47:00.078642Z"
    },
    "papermill": {
     "duration": 144.305878,
     "end_time": "2022-05-10T13:36:21.321515",
     "exception": false,
     "start_time": "2022-05-10T13:33:57.015637",
     "status": "completed"
    },
    "tags": []
   },
   "outputs": [
    {
     "name": "stderr",
     "output_type": "stream",
     "text": [
      "/opt/conda/lib/python3.7/site-packages/ipykernel_launcher.py:39: FutureWarning: The default value of regex will change from True to False in a future version.\n",
      "/opt/conda/lib/python3.7/site-packages/ipykernel_launcher.py:40: FutureWarning: The default value of regex will change from True to False in a future version.\n",
      "/opt/conda/lib/python3.7/site-packages/ipykernel_launcher.py:47: FutureWarning: The default value of regex will change from True to False in a future version.\n",
      "/opt/conda/lib/python3.7/site-packages/ipykernel_launcher.py:50: FutureWarning: The default value of regex will change from True to False in a future version.\n"
     ]
    },
    {
     "data": {
      "text/html": [
       "<div>\n",
       "<style scoped>\n",
       "    .dataframe tbody tr th:only-of-type {\n",
       "        vertical-align: middle;\n",
       "    }\n",
       "\n",
       "    .dataframe tbody tr th {\n",
       "        vertical-align: top;\n",
       "    }\n",
       "\n",
       "    .dataframe thead th {\n",
       "        text-align: right;\n",
       "    }\n",
       "</style>\n",
       "<table border=\"1\" class=\"dataframe\">\n",
       "  <thead>\n",
       "    <tr style=\"text-align: right;\">\n",
       "      <th></th>\n",
       "      <th>headlines</th>\n",
       "      <th>text</th>\n",
       "    </tr>\n",
       "  </thead>\n",
       "  <tbody>\n",
       "    <tr>\n",
       "      <th>0</th>\n",
       "      <td>upgrad learner switch career ml al 90% salari ...</td>\n",
       "      <td>saurav kant alumnu upgrad iiit-b pg program ma...</td>\n",
       "    </tr>\n",
       "    <tr>\n",
       "      <th>1</th>\n",
       "      <td>delhi techi win free food swiggi one year cred</td>\n",
       "      <td>kunal shah credit card bill payment platform c...</td>\n",
       "    </tr>\n",
       "    <tr>\n",
       "      <th>2</th>\n",
       "      <td>new zealand end rohit sharma-l india 12-match ...</td>\n",
       "      <td>new zealand defeat india 8 wicket fourth odi h...</td>\n",
       "    </tr>\n",
       "    <tr>\n",
       "      <th>3</th>\n",
       "      <td>aegon life iterm insur plan help custom save tax</td>\n",
       "      <td>aegon life iterm insur plan custom enjoy tax b...</td>\n",
       "    </tr>\n",
       "    <tr>\n",
       "      <th>4</th>\n",
       "      <td>known hirani yr metoo claim true: sonam</td>\n",
       "      <td>speak sexual harass alleg rajkumar hirani sona...</td>\n",
       "    </tr>\n",
       "  </tbody>\n",
       "</table>\n",
       "</div>"
      ],
      "text/plain": [
       "                                           headlines  \\\n",
       "0  upgrad learner switch career ml al 90% salari ...   \n",
       "1     delhi techi win free food swiggi one year cred   \n",
       "2  new zealand end rohit sharma-l india 12-match ...   \n",
       "3   aegon life iterm insur plan help custom save tax   \n",
       "4            known hirani yr metoo claim true: sonam   \n",
       "\n",
       "                                                text  \n",
       "0  saurav kant alumnu upgrad iiit-b pg program ma...  \n",
       "1  kunal shah credit card bill payment platform c...  \n",
       "2  new zealand defeat india 8 wicket fourth odi h...  \n",
       "3  aegon life iterm insur plan custom enjoy tax b...  \n",
       "4  speak sexual harass alleg rajkumar hirani sona...  "
      ]
     },
     "execution_count": 7,
     "metadata": {},
     "output_type": "execute_result"
    }
   ],
   "source": [
    "preproccesor = Preprocessor(more_df)\n",
    "preprocessed_df = preproccesor.preprocess()\n",
    "preprocessed_df.head()"
   ]
  },
  {
   "cell_type": "code",
   "execution_count": 8,
   "id": "ad9165fc",
   "metadata": {
    "execution": {
     "iopub.execute_input": "2022-05-10T13:36:21.393609Z",
     "iopub.status.busy": "2022-05-10T13:36:21.392885Z",
     "iopub.status.idle": "2022-05-10T13:36:57.090533Z",
     "shell.execute_reply": "2022-05-10T13:36:57.091043Z",
     "shell.execute_reply.started": "2022-05-10T12:50:13.580709Z"
    },
    "papermill": {
     "duration": 35.73541,
     "end_time": "2022-05-10T13:36:57.091236",
     "exception": false,
     "start_time": "2022-05-10T13:36:21.355826",
     "status": "completed"
    },
    "tags": []
   },
   "outputs": [
    {
     "name": "stderr",
     "output_type": "stream",
     "text": [
      "/opt/conda/lib/python3.7/site-packages/ipykernel_launcher.py:39: FutureWarning: The default value of regex will change from True to False in a future version.\n",
      "/opt/conda/lib/python3.7/site-packages/ipykernel_launcher.py:40: FutureWarning: The default value of regex will change from True to False in a future version.\n",
      "/opt/conda/lib/python3.7/site-packages/ipykernel_launcher.py:47: FutureWarning: The default value of regex will change from True to False in a future version.\n",
      "/opt/conda/lib/python3.7/site-packages/ipykernel_launcher.py:50: FutureWarning: The default value of regex will change from True to False in a future version.\n"
     ]
    },
    {
     "data": {
      "text/html": [
       "<div>\n",
       "<style scoped>\n",
       "    .dataframe tbody tr th:only-of-type {\n",
       "        vertical-align: middle;\n",
       "    }\n",
       "\n",
       "    .dataframe tbody tr th {\n",
       "        vertical-align: top;\n",
       "    }\n",
       "\n",
       "    .dataframe thead th {\n",
       "        text-align: right;\n",
       "    }\n",
       "</style>\n",
       "<table border=\"1\" class=\"dataframe\">\n",
       "  <thead>\n",
       "    <tr style=\"text-align: right;\">\n",
       "      <th></th>\n",
       "      <th>headlines</th>\n",
       "      <th>text</th>\n",
       "    </tr>\n",
       "  </thead>\n",
       "  <tbody>\n",
       "    <tr>\n",
       "      <th>0</th>\n",
       "      <td>administr union territori daman diu revok orde...</td>\n",
       "      <td>daman diu administr wednesday withdrew circula...</td>\n",
       "    </tr>\n",
       "    <tr>\n",
       "      <th>1</th>\n",
       "      <td>malaika arora slam instagram user troll divorc...</td>\n",
       "      <td>special number tvappear bollywood actor malaik...</td>\n",
       "    </tr>\n",
       "    <tr>\n",
       "      <th>2</th>\n",
       "      <td>indira gandhi institut medic scienc igim patna...</td>\n",
       "      <td>indira gandhi institut medic scienc igim patna...</td>\n",
       "    </tr>\n",
       "    <tr>\n",
       "      <th>3</th>\n",
       "      <td>lashkar-e-taiba kashmir command abu dujana kil...</td>\n",
       "      <td>lashkar-e-taiba kashmir command abu dujana kil...</td>\n",
       "    </tr>\n",
       "    <tr>\n",
       "      <th>4</th>\n",
       "      <td>hotel maharashtra train staff spot sign sex tr...</td>\n",
       "      <td>hotel mumbai indian citi train staff spot sign...</td>\n",
       "    </tr>\n",
       "  </tbody>\n",
       "</table>\n",
       "</div>"
      ],
      "text/plain": [
       "                                           headlines  \\\n",
       "0  administr union territori daman diu revok orde...   \n",
       "1  malaika arora slam instagram user troll divorc...   \n",
       "2  indira gandhi institut medic scienc igim patna...   \n",
       "3  lashkar-e-taiba kashmir command abu dujana kil...   \n",
       "4  hotel maharashtra train staff spot sign sex tr...   \n",
       "\n",
       "                                                text  \n",
       "0  daman diu administr wednesday withdrew circula...  \n",
       "1  special number tvappear bollywood actor malaik...  \n",
       "2  indira gandhi institut medic scienc igim patna...  \n",
       "3  lashkar-e-taiba kashmir command abu dujana kil...  \n",
       "4  hotel mumbai indian citi train staff spot sign...  "
      ]
     },
     "execution_count": 8,
     "metadata": {},
     "output_type": "execute_result"
    }
   ],
   "source": [
    "df = df[[\"text\",\"ctext\"]]\n",
    "df.columns = [\"headlines\",\"text\"]\n",
    "df = df.dropna()\n",
    "preprocessor_df = Preprocessor(df)\n",
    "preprocessed_normal_df = preprocessor_df.preprocess()\n",
    "preprocessed_normal_df.head()"
   ]
  },
  {
   "cell_type": "code",
   "execution_count": 9,
   "id": "494186cf",
   "metadata": {
    "execution": {
     "iopub.execute_input": "2022-05-10T13:36:57.166606Z",
     "iopub.status.busy": "2022-05-10T13:36:57.165684Z",
     "iopub.status.idle": "2022-05-10T13:36:57.195433Z",
     "shell.execute_reply": "2022-05-10T13:36:57.194688Z",
     "shell.execute_reply.started": "2022-05-10T12:51:01.369938Z"
    },
    "papermill": {
     "duration": 0.068816,
     "end_time": "2022-05-10T13:36:57.195587",
     "exception": false,
     "start_time": "2022-05-10T13:36:57.126771",
     "status": "completed"
    },
    "tags": []
   },
   "outputs": [
    {
     "data": {
      "text/html": [
       "<div>\n",
       "<style scoped>\n",
       "    .dataframe tbody tr th:only-of-type {\n",
       "        vertical-align: middle;\n",
       "    }\n",
       "\n",
       "    .dataframe tbody tr th {\n",
       "        vertical-align: top;\n",
       "    }\n",
       "\n",
       "    .dataframe thead th {\n",
       "        text-align: right;\n",
       "    }\n",
       "</style>\n",
       "<table border=\"1\" class=\"dataframe\">\n",
       "  <thead>\n",
       "    <tr style=\"text-align: right;\">\n",
       "      <th></th>\n",
       "      <th>headlines</th>\n",
       "      <th>text</th>\n",
       "    </tr>\n",
       "  </thead>\n",
       "  <tbody>\n",
       "    <tr>\n",
       "      <th>count</th>\n",
       "      <td>4396</td>\n",
       "      <td>4396</td>\n",
       "    </tr>\n",
       "    <tr>\n",
       "      <th>unique</th>\n",
       "      <td>4396</td>\n",
       "      <td>4341</td>\n",
       "    </tr>\n",
       "    <tr>\n",
       "      <th>top</th>\n",
       "      <td>administr union territori daman diu revok orde...</td>\n",
       "      <td>aaj tak live tv live elect result congratul sh...</td>\n",
       "    </tr>\n",
       "    <tr>\n",
       "      <th>freq</th>\n",
       "      <td>1</td>\n",
       "      <td>13</td>\n",
       "    </tr>\n",
       "  </tbody>\n",
       "</table>\n",
       "</div>"
      ],
      "text/plain": [
       "                                                headlines  \\\n",
       "count                                                4396   \n",
       "unique                                               4396   \n",
       "top     administr union territori daman diu revok orde...   \n",
       "freq                                                    1   \n",
       "\n",
       "                                                     text  \n",
       "count                                                4396  \n",
       "unique                                               4341  \n",
       "top     aaj tak live tv live elect result congratul sh...  \n",
       "freq                                                   13  "
      ]
     },
     "execution_count": 9,
     "metadata": {},
     "output_type": "execute_result"
    }
   ],
   "source": [
    "preprocessed_normal_df.describe()"
   ]
  },
  {
   "cell_type": "code",
   "execution_count": 10,
   "id": "ea1f9e6b",
   "metadata": {
    "execution": {
     "iopub.execute_input": "2022-05-10T13:36:57.271416Z",
     "iopub.status.busy": "2022-05-10T13:36:57.270635Z",
     "iopub.status.idle": "2022-05-10T13:36:57.290427Z",
     "shell.execute_reply": "2022-05-10T13:36:57.291004Z",
     "shell.execute_reply.started": "2022-05-10T12:51:01.403510Z"
    },
    "papermill": {
     "duration": 0.059651,
     "end_time": "2022-05-10T13:36:57.291224",
     "exception": false,
     "start_time": "2022-05-10T13:36:57.231573",
     "status": "completed"
    },
    "tags": []
   },
   "outputs": [],
   "source": [
    "class EDADescriber:\n",
    "    def __init__(self,df):\n",
    "        self.df = df\n",
    "        self.punc = string.punctuation\n",
    "        self.stopwords = nltk.corpus.stopwords.words('english')\n",
    "        \n",
    "    def count_stopwords(self,text):\n",
    "        word_tokens = nltk.word_tokenize(text) #splitta i pezzi\n",
    "        stopwords_x = [w for w in word_tokens if w in self.stopwords]\n",
    "        return len(stopwords_x)\n",
    "    \n",
    "    def createSummaryDataframe(self):\n",
    "        dataset = pd.DataFrame()\n",
    "        dataset['headlines_sent_count'] = self.df['headlines'].apply(lambda x : len(nltk.sent_tokenize(x)))\n",
    "        dataset['text_sent_count'] = self.df['text'].apply(lambda x : len(nltk.sent_tokenize(x)))\n",
    "        dataset['headlines_word_count'] = self.df['headlines'].apply(lambda x : len(x.split()))\n",
    "        dataset['text_word_count'] = self.df['text'].apply(lambda x : len(x.split()))\n",
    "        dataset['headlines_char_count'] = self.df['headlines'].apply(lambda x : len(x.replace(\" \",\"\")))\n",
    "        dataset['text_char_count'] = self.df['text'].apply(lambda x : len(x.replace(\" \",\"\")))\n",
    "        dataset['headlines_word_density'] = dataset['headlines_word_count'] / (dataset['headlines_char_count'] + 1)\n",
    "        dataset['text_word_density'] = dataset['text_word_count'] / (dataset['text_char_count'] + 1)\n",
    "        dataset['headlines_sent_density'] = dataset['headlines_sent_count'] / (dataset['headlines_word_count'] + 1)\n",
    "        dataset['text_sent_density'] = dataset['text_sent_count'] / (dataset['text_word_count'] + 1)\n",
    "        dataset['headlines_punc_count'] = self.df['headlines'].apply(lambda x : len([a for a in x if a in self.punc]))\n",
    "        dataset['text_punc_count'] = self.df['text'].apply(lambda x : len([a for a in x if a in self.punc]))\n",
    "        dataset['text_stopw_count'] =  self.df['text'].apply(lambda x : self.count_stopwords(x))\n",
    "        dataset['headlines_stopw_count'] =  self.df['headlines'].apply(lambda x : self.count_stopwords(x))\n",
    "        dataset['headlines_stopw_density'] = dataset['headlines_stopw_count'] / (dataset['headlines_word_count'] + 1)\n",
    "        dataset['text_stopw_density'] = dataset['text_stopw_count'] / (dataset['text_word_count'] + 1)\n",
    "        return dataset\n",
    "    \n",
    "    \n",
    "    def plot_histograms(self, plot_vars, xlim, figsize):\n",
    "        import random\n",
    "        data = self.createSummaryDataframe()\n",
    "        fig, axes = plt.subplots(plot_vars.shape[0], plot_vars.shape[1], figsize=figsize, sharey=False, dpi=100)\n",
    "        for i in range(plot_vars.shape[1]):\n",
    "            sns.distplot(data[plot_vars[0,i]] , color=(random.uniform(0, 1), random.uniform(0, 1), random.uniform(0, 1),), \n",
    "                         ax=axes[i], bins= 50, norm_hist = True)\n",
    "            axes[i].set_xlim(left=0, right=xlim[i])\n",
    "        fig.tight_layout()"
   ]
  },
  {
   "cell_type": "code",
   "execution_count": 11,
   "id": "6e223f93",
   "metadata": {
    "execution": {
     "iopub.execute_input": "2022-05-10T13:36:57.367176Z",
     "iopub.status.busy": "2022-05-10T13:36:57.366468Z",
     "iopub.status.idle": "2022-05-10T13:37:19.737268Z",
     "shell.execute_reply": "2022-05-10T13:37:19.737769Z",
     "shell.execute_reply.started": "2022-05-10T12:51:01.427941Z"
    },
    "papermill": {
     "duration": 22.410632,
     "end_time": "2022-05-10T13:37:19.737973",
     "exception": false,
     "start_time": "2022-05-10T13:36:57.327341",
     "status": "completed"
    },
    "tags": []
   },
   "outputs": [
    {
     "data": {
      "text/html": [
       "<div>\n",
       "<style scoped>\n",
       "    .dataframe tbody tr th:only-of-type {\n",
       "        vertical-align: middle;\n",
       "    }\n",
       "\n",
       "    .dataframe tbody tr th {\n",
       "        vertical-align: top;\n",
       "    }\n",
       "\n",
       "    .dataframe thead th {\n",
       "        text-align: right;\n",
       "    }\n",
       "</style>\n",
       "<table border=\"1\" class=\"dataframe\">\n",
       "  <thead>\n",
       "    <tr style=\"text-align: right;\">\n",
       "      <th></th>\n",
       "      <th>text_sent_count</th>\n",
       "      <th>text_word_count</th>\n",
       "      <th>text_char_count</th>\n",
       "      <th>text_stopw_count</th>\n",
       "      <th>text_punc_count</th>\n",
       "    </tr>\n",
       "  </thead>\n",
       "  <tbody>\n",
       "    <tr>\n",
       "      <th>count</th>\n",
       "      <td>4396.000000</td>\n",
       "      <td>4396.000000</td>\n",
       "      <td>4396.000000</td>\n",
       "      <td>4396.000000</td>\n",
       "      <td>4396.000000</td>\n",
       "    </tr>\n",
       "    <tr>\n",
       "      <th>mean</th>\n",
       "      <td>10.599864</td>\n",
       "      <td>205.012966</td>\n",
       "      <td>1152.846906</td>\n",
       "      <td>3.982484</td>\n",
       "      <td>25.771838</td>\n",
       "    </tr>\n",
       "    <tr>\n",
       "      <th>std</th>\n",
       "      <td>16.082263</td>\n",
       "      <td>216.108595</td>\n",
       "      <td>1211.059099</td>\n",
       "      <td>7.560806</td>\n",
       "      <td>45.341892</td>\n",
       "    </tr>\n",
       "    <tr>\n",
       "      <th>min</th>\n",
       "      <td>1.000000</td>\n",
       "      <td>1.000000</td>\n",
       "      <td>3.000000</td>\n",
       "      <td>0.000000</td>\n",
       "      <td>0.000000</td>\n",
       "    </tr>\n",
       "    <tr>\n",
       "      <th>25%</th>\n",
       "      <td>5.000000</td>\n",
       "      <td>112.000000</td>\n",
       "      <td>628.750000</td>\n",
       "      <td>1.000000</td>\n",
       "      <td>12.000000</td>\n",
       "    </tr>\n",
       "    <tr>\n",
       "      <th>50%</th>\n",
       "      <td>8.000000</td>\n",
       "      <td>170.000000</td>\n",
       "      <td>949.000000</td>\n",
       "      <td>2.000000</td>\n",
       "      <td>18.000000</td>\n",
       "    </tr>\n",
       "    <tr>\n",
       "      <th>75%</th>\n",
       "      <td>13.000000</td>\n",
       "      <td>245.000000</td>\n",
       "      <td>1367.000000</td>\n",
       "      <td>5.000000</td>\n",
       "      <td>28.000000</td>\n",
       "    </tr>\n",
       "    <tr>\n",
       "      <th>max</th>\n",
       "      <td>572.000000</td>\n",
       "      <td>7249.000000</td>\n",
       "      <td>41544.000000</td>\n",
       "      <td>185.000000</td>\n",
       "      <td>1188.000000</td>\n",
       "    </tr>\n",
       "  </tbody>\n",
       "</table>\n",
       "</div>"
      ],
      "text/plain": [
       "       text_sent_count  text_word_count  text_char_count  text_stopw_count  \\\n",
       "count      4396.000000      4396.000000      4396.000000       4396.000000   \n",
       "mean         10.599864       205.012966      1152.846906          3.982484   \n",
       "std          16.082263       216.108595      1211.059099          7.560806   \n",
       "min           1.000000         1.000000         3.000000          0.000000   \n",
       "25%           5.000000       112.000000       628.750000          1.000000   \n",
       "50%           8.000000       170.000000       949.000000          2.000000   \n",
       "75%          13.000000       245.000000      1367.000000          5.000000   \n",
       "max         572.000000      7249.000000     41544.000000        185.000000   \n",
       "\n",
       "       text_punc_count  \n",
       "count      4396.000000  \n",
       "mean         25.771838  \n",
       "std          45.341892  \n",
       "min           0.000000  \n",
       "25%          12.000000  \n",
       "50%          18.000000  \n",
       "75%          28.000000  \n",
       "max        1188.000000  "
      ]
     },
     "execution_count": 11,
     "metadata": {},
     "output_type": "execute_result"
    }
   ],
   "source": [
    "edaDesc = EDADescriber(df)\n",
    "edadesc_summary = edaDesc.createSummaryDataframe()\n",
    "edadesc_summary[['text_sent_count', 'text_word_count', 'text_char_count', 'text_stopw_count', 'text_punc_count']].describe()"
   ]
  },
  {
   "cell_type": "code",
   "execution_count": 12,
   "id": "db47b9fe",
   "metadata": {
    "execution": {
     "iopub.execute_input": "2022-05-10T13:37:19.830958Z",
     "iopub.status.busy": "2022-05-10T13:37:19.830164Z",
     "iopub.status.idle": "2022-05-10T13:37:44.046394Z",
     "shell.execute_reply": "2022-05-10T13:37:44.046972Z",
     "shell.execute_reply.started": "2022-05-10T12:51:29.238575Z"
    },
    "papermill": {
     "duration": 24.270898,
     "end_time": "2022-05-10T13:37:44.047161",
     "exception": false,
     "start_time": "2022-05-10T13:37:19.776263",
     "status": "completed"
    },
    "tags": []
   },
   "outputs": [
    {
     "name": "stderr",
     "output_type": "stream",
     "text": [
      "/opt/conda/lib/python3.7/site-packages/seaborn/distributions.py:2619: FutureWarning: `distplot` is a deprecated function and will be removed in a future version. Please adapt your code to use either `displot` (a figure-level function with similar flexibility) or `histplot` (an axes-level function for histograms).\n",
      "  warnings.warn(msg, FutureWarning)\n",
      "/opt/conda/lib/python3.7/site-packages/seaborn/distributions.py:2619: FutureWarning: `distplot` is a deprecated function and will be removed in a future version. Please adapt your code to use either `displot` (a figure-level function with similar flexibility) or `histplot` (an axes-level function for histograms).\n",
      "  warnings.warn(msg, FutureWarning)\n",
      "/opt/conda/lib/python3.7/site-packages/seaborn/distributions.py:2619: FutureWarning: `distplot` is a deprecated function and will be removed in a future version. Please adapt your code to use either `displot` (a figure-level function with similar flexibility) or `histplot` (an axes-level function for histograms).\n",
      "  warnings.warn(msg, FutureWarning)\n",
      "/opt/conda/lib/python3.7/site-packages/seaborn/distributions.py:2619: FutureWarning: `distplot` is a deprecated function and will be removed in a future version. Please adapt your code to use either `displot` (a figure-level function with similar flexibility) or `histplot` (an axes-level function for histograms).\n",
      "  warnings.warn(msg, FutureWarning)\n",
      "/opt/conda/lib/python3.7/site-packages/seaborn/distributions.py:2619: FutureWarning: `distplot` is a deprecated function and will be removed in a future version. Please adapt your code to use either `displot` (a figure-level function with similar flexibility) or `histplot` (an axes-level function for histograms).\n",
      "  warnings.warn(msg, FutureWarning)\n"
     ]
    },
    {
     "data": {
      "image/png": "[encoded data removed]",
      "text/plain": [
       "<Figure size 1000x300 with 5 Axes>"
      ]
     },
     "metadata": {
      "needs_background": "light"
     },
     "output_type": "display_data"
    }
   ],
   "source": [
    "#Set the columns to plot\n",
    "plot_vars=np.array([['text_sent_count', 'text_word_count', 'text_char_count','text_sent_density','text_word_density']])\n",
    "# Plot the histograms \n",
    "edaDesc.plot_histograms(plot_vars, [500, 500, 5000, 0.5, 0.3], figsize=(10,3))"
   ]
  },
  {
   "cell_type": "code",
   "execution_count": 13,
   "id": "ae43cf1b",
   "metadata": {
    "execution": {
     "iopub.execute_input": "2022-05-10T13:37:44.180163Z",
     "iopub.status.busy": "2022-05-10T13:37:44.148977Z",
     "iopub.status.idle": "2022-05-10T13:38:07.954926Z",
     "shell.execute_reply": "2022-05-10T13:38:07.955513Z",
     "shell.execute_reply.started": "2022-05-10T12:51:58.683412Z"
    },
    "papermill": {
     "duration": 23.868302,
     "end_time": "2022-05-10T13:38:07.955692",
     "exception": false,
     "start_time": "2022-05-10T13:37:44.087390",
     "status": "completed"
    },
    "tags": []
   },
   "outputs": [
    {
     "name": "stderr",
     "output_type": "stream",
     "text": [
      "/opt/conda/lib/python3.7/site-packages/seaborn/distributions.py:2619: FutureWarning: `distplot` is a deprecated function and will be removed in a future version. Please adapt your code to use either `displot` (a figure-level function with similar flexibility) or `histplot` (an axes-level function for histograms).\n",
      "  warnings.warn(msg, FutureWarning)\n",
      "/opt/conda/lib/python3.7/site-packages/seaborn/distributions.py:2619: FutureWarning: `distplot` is a deprecated function and will be removed in a future version. Please adapt your code to use either `displot` (a figure-level function with similar flexibility) or `histplot` (an axes-level function for histograms).\n",
      "  warnings.warn(msg, FutureWarning)\n",
      "/opt/conda/lib/python3.7/site-packages/seaborn/distributions.py:2619: FutureWarning: `distplot` is a deprecated function and will be removed in a future version. Please adapt your code to use either `displot` (a figure-level function with similar flexibility) or `histplot` (an axes-level function for histograms).\n",
      "  warnings.warn(msg, FutureWarning)\n",
      "/opt/conda/lib/python3.7/site-packages/seaborn/distributions.py:2619: FutureWarning: `distplot` is a deprecated function and will be removed in a future version. Please adapt your code to use either `displot` (a figure-level function with similar flexibility) or `histplot` (an axes-level function for histograms).\n",
      "  warnings.warn(msg, FutureWarning)\n",
      "/opt/conda/lib/python3.7/site-packages/seaborn/distributions.py:2619: FutureWarning: `distplot` is a deprecated function and will be removed in a future version. Please adapt your code to use either `displot` (a figure-level function with similar flexibility) or `histplot` (an axes-level function for histograms).\n",
      "  warnings.warn(msg, FutureWarning)\n"
     ]
    },
    {
     "data": {
      "image/png": "[encoded data removed]",
      "text/plain": [
       "<Figure size 1000x300 with 5 Axes>"
      ]
     },
     "metadata": {
      "needs_background": "light"
     },
     "output_type": "display_data"
    }
   ],
   "source": [
    "plot_vars=np.array([['headlines_sent_count', 'headlines_word_count', 'headlines_char_count','headlines_sent_density','headlines_word_density']])\n",
    "edaDesc.plot_histograms(plot_vars, [10, 70, 100, 0.25, 0.3], figsize=(10,3))"
   ]
  },
  {
   "cell_type": "code",
   "execution_count": 14,
   "id": "574de090",
   "metadata": {
    "execution": {
     "iopub.execute_input": "2022-05-10T13:38:08.043224Z",
     "iopub.status.busy": "2022-05-10T13:38:08.042502Z",
     "iopub.status.idle": "2022-05-10T13:38:08.049530Z",
     "shell.execute_reply": "2022-05-10T13:38:08.050083Z",
     "shell.execute_reply.started": "2022-05-10T12:52:18.201543Z"
    },
    "papermill": {
     "duration": 0.052314,
     "end_time": "2022-05-10T13:38:08.050278",
     "exception": false,
     "start_time": "2022-05-10T13:38:07.997964",
     "status": "completed"
    },
    "tags": []
   },
   "outputs": [
    {
     "data": {
      "text/plain": [
       "((3956, 2), (440, 2))"
      ]
     },
     "execution_count": 14,
     "metadata": {},
     "output_type": "execute_result"
    }
   ],
   "source": [
    "train_df, test_df = model_selection.train_test_split(df, test_size =0.1)\n",
    "train_df.shape, test_df.shape"
   ]
  },
  {
   "cell_type": "markdown",
   "id": "0b4f96eb",
   "metadata": {
    "papermill": {
     "duration": 0.042745,
     "end_time": "2022-05-10T13:38:08.135564",
     "exception": false,
     "start_time": "2022-05-10T13:38:08.092819",
     "status": "completed"
    },
    "tags": []
   },
   "source": [
    "### Word clouds & Most Frequent Terms"
   ]
  },
  {
   "cell_type": "code",
   "execution_count": 15,
   "id": "232284eb",
   "metadata": {
    "execution": {
     "iopub.execute_input": "2022-05-10T13:38:08.223896Z",
     "iopub.status.busy": "2022-05-10T13:38:08.223234Z",
     "iopub.status.idle": "2022-05-10T13:38:18.022934Z",
     "shell.execute_reply": "2022-05-10T13:38:18.023453Z",
     "shell.execute_reply.started": "2022-05-10T12:52:18.215566Z"
    },
    "papermill": {
     "duration": 9.845877,
     "end_time": "2022-05-10T13:38:18.023644",
     "exception": false,
     "start_time": "2022-05-10T13:38:08.177767",
     "status": "completed"
    },
    "tags": []
   },
   "outputs": [
    {
     "data": {
      "image/png": "[encoded data removed]",
      "text/plain": [
       "<PIL.Image.Image image mode=RGB size=400x200 at 0x7FF8AEFCAF10>"
      ]
     },
     "execution_count": 15,
     "metadata": {},
     "output_type": "execute_result"
    }
   ],
   "source": [
    "from wordcloud import WordCloud\n",
    "long_string = ','.join(list(preprocessed_normal_df[\"text\"]))\n",
    "wordcloud = WordCloud(background_color=\"white\", max_words=1000, contour_width=3, contour_color='steelblue')\n",
    "wordcloud.generate(long_string)\n",
    "wordcloud.to_image()"
   ]
  },
  {
   "cell_type": "code",
   "execution_count": 16,
   "id": "0f230f33",
   "metadata": {
    "execution": {
     "iopub.execute_input": "2022-05-10T13:38:18.117522Z",
     "iopub.status.busy": "2022-05-10T13:38:18.116779Z",
     "iopub.status.idle": "2022-05-10T13:38:27.957956Z",
     "shell.execute_reply": "2022-05-10T13:38:27.958535Z",
     "shell.execute_reply.started": "2022-05-10T12:52:29.770817Z"
    },
    "papermill": {
     "duration": 9.889578,
     "end_time": "2022-05-10T13:38:27.958724",
     "exception": false,
     "start_time": "2022-05-10T13:38:18.069146",
     "status": "completed"
    },
    "tags": []
   },
   "outputs": [
    {
     "data": {
      "image/png": "[encoded data removed]",
      "text/plain": [
       "<PIL.Image.Image image mode=RGB size=400x200 at 0x7FF8AD3D3C50>"
      ]
     },
     "execution_count": 16,
     "metadata": {},
     "output_type": "execute_result"
    }
   ],
   "source": [
    "headline_string = ','.join(list(preprocessed_normal_df[\"headlines\"]))\n",
    "wordcloud = WordCloud(background_color=\"white\", max_words=1000, contour_width=3, contour_color='steelblue')\n",
    "wordcloud.generate(long_string)\n",
    "wordcloud.to_image()"
   ]
  },
  {
   "cell_type": "markdown",
   "id": "50fd6438",
   "metadata": {
    "papermill": {
     "duration": 0.048405,
     "end_time": "2022-05-10T13:38:28.055578",
     "exception": false,
     "start_time": "2022-05-10T13:38:28.007173",
     "status": "completed"
    },
    "tags": []
   },
   "source": [
    "### Tokenizing using T5-transformer tokenizer"
   ]
  },
  {
   "cell_type": "code",
   "execution_count": 17,
   "id": "cce2bd27",
   "metadata": {
    "execution": {
     "iopub.execute_input": "2022-05-10T13:38:28.161345Z",
     "iopub.status.busy": "2022-05-10T13:38:28.160244Z",
     "iopub.status.idle": "2022-05-10T13:38:28.165714Z",
     "shell.execute_reply": "2022-05-10T13:38:28.165112Z",
     "shell.execute_reply.started": "2022-05-10T12:52:40.561738Z"
    },
    "papermill": {
     "duration": 0.062639,
     "end_time": "2022-05-10T13:38:28.165861",
     "exception": false,
     "start_time": "2022-05-10T13:38:28.103222",
     "status": "completed"
    },
    "tags": []
   },
   "outputs": [],
   "source": [
    "class SummarizerTokenizer(Dataset):\n",
    "    def __init__(self, data, tokenizer, text_max_token_len, summary_max_token_len):\n",
    "        self.tokenizer = tokenizer\n",
    "        self.data = data\n",
    "        self.text_max_token_len = text_max_token_len\n",
    "        self.summary_max_token_len = summary_max_token_len\n",
    "        \n",
    "\n",
    "    def getSummary(self, index: int):\n",
    "        data_row = self.data.iloc[index]\n",
    "        text = data_row['text']\n",
    "\n",
    "        text_encoding = self.tokenizer(\n",
    "            text,\n",
    "            max_length=self.text_max_token_len,\n",
    "            padding='max_length',\n",
    "            truncation=True,\n",
    "            return_attention_mask=True,\n",
    "            add_special_tokens=True,\n",
    "            return_tensors='pt'\n",
    "        )\n",
    "\n",
    "        summary_encoding = self.tokenizer(\n",
    "            data_row['headlines'],\n",
    "            max_length=self.summary_max_token_len,\n",
    "            padding='max_length',\n",
    "            truncation=True,\n",
    "            return_attention_mask=True,\n",
    "            add_special_tokens=True,\n",
    "            return_tensors='pt'\n",
    "        )\n",
    "\n",
    "        labels = summary_encoding['input_ids']\n",
    "        labels[labels == 0] = -100\n",
    "\n",
    "        return dict(\n",
    "            text=text,\n",
    "            summary=data_row['summary'],\n",
    "            text_input_ids=text_encoding['input_ids'],\n",
    "            text_attention_mask=text_encoding['attention_mask'],\n",
    "            labels=labels,\n",
    "            labels_attention_mask=summary_encoding['attention_mask']\n",
    "        )"
   ]
  },
  {
   "cell_type": "code",
   "execution_count": 18,
   "id": "ff2b089f",
   "metadata": {
    "execution": {
     "iopub.execute_input": "2022-05-10T13:38:28.273072Z",
     "iopub.status.busy": "2022-05-10T13:38:28.272009Z",
     "iopub.status.idle": "2022-05-10T13:38:28.275247Z",
     "shell.execute_reply": "2022-05-10T13:38:28.274568Z",
     "shell.execute_reply.started": "2022-05-10T12:52:40.572115Z"
    },
    "papermill": {
     "duration": 0.061329,
     "end_time": "2022-05-10T13:38:28.275395",
     "exception": false,
     "start_time": "2022-05-10T13:38:28.214066",
     "status": "completed"
    },
    "tags": []
   },
   "outputs": [],
   "source": [
    "class SummarizerDataModule(pl.LightningDataModule):\n",
    "    def __init__(self, train_df, test_df, tokenizer, batch_size, text_max_token_len, summary_max_token_len):\n",
    "        super().__init__()\n",
    "        \n",
    "        self.train_df = train_df\n",
    "        self.test_df = test_df\n",
    "        self.tokenizer = tokenizer\n",
    "        self.batch_size = batch_size\n",
    "        self.text_max_token_len = text_max_token_len\n",
    "        self.summary_max_token_len = summary_max_token_len\n",
    "        \n",
    "    def setup(self, stage = None):\n",
    "        self.train_dataset = SummarizerTokenizer(\n",
    "            self.train_df,\n",
    "            self.tokenizer,\n",
    "            self.text_max_token_len,\n",
    "            self.summary_max_token_len\n",
    "        )\n",
    "        self.test_dataset = SummarizerTokenizer(\n",
    "            self.test_df,\n",
    "            self.tokenizer,\n",
    "            self.text_max_token_len,\n",
    "            self.summary_max_token_len\n",
    "        )\n",
    "        \n",
    "    def train_dataloader(self):\n",
    "        return DataLoader(\n",
    "            self.train_dataset,\n",
    "            batch_size = self.batch_size,\n",
    "            shuffle=True,\n",
    "            num_workers=2\n",
    "        )\n",
    "    \n",
    "    def test_dataloader(self):\n",
    "        return DataLoader(\n",
    "            self.test_dataset,\n",
    "            batch_size = self.batch_size,\n",
    "            shuffle=True,\n",
    "            num_workers=2\n",
    "        )\n",
    "    def validation_dataloader(self):\n",
    "        return DataLoader(\n",
    "            self.test_dataset,\n",
    "            batch_size=self.batch_size,\n",
    "            shuffle=True,\n",
    "            num_workers=2\n",
    "        )"
   ]
  },
  {
   "cell_type": "code",
   "execution_count": 19,
   "id": "779b7c65",
   "metadata": {
    "execution": {
     "iopub.execute_input": "2022-05-10T13:38:28.375122Z",
     "iopub.status.busy": "2022-05-10T13:38:28.374074Z",
     "iopub.status.idle": "2022-05-10T13:38:32.805409Z",
     "shell.execute_reply": "2022-05-10T13:38:32.804833Z",
     "shell.execute_reply.started": "2022-05-10T12:52:40.583040Z"
    },
    "papermill": {
     "duration": 4.483163,
     "end_time": "2022-05-10T13:38:32.805565",
     "exception": false,
     "start_time": "2022-05-10T13:38:28.322402",
     "status": "completed"
    },
    "tags": []
   },
   "outputs": [
    {
     "data": {
      "application/vnd.jupyter.widget-view+json": {
       "model_id": "44d03671c9b145948586962785155f10",
       "version_major": 2,
       "version_minor": 0
      },
      "text/plain": [
       "Downloading:   0%|          | 0.00/773k [00:00<?, ?B/s]"
      ]
     },
     "metadata": {},
     "output_type": "display_data"
    },
    {
     "data": {
      "application/vnd.jupyter.widget-view+json": {
       "model_id": "2cd57d2e3bb0458698c66deb6b494ed4",
       "version_major": 2,
       "version_minor": 0
      },
      "text/plain": [
       "Downloading:   0%|          | 0.00/1.32M [00:00<?, ?B/s]"
      ]
     },
     "metadata": {},
     "output_type": "display_data"
    },
    {
     "data": {
      "application/vnd.jupyter.widget-view+json": {
       "model_id": "abf646f77ad6447ba343788a1a8a5fbb",
       "version_major": 2,
       "version_minor": 0
      },
      "text/plain": [
       "Downloading:   0%|          | 0.00/1.17k [00:00<?, ?B/s]"
      ]
     },
     "metadata": {},
     "output_type": "display_data"
    }
   ],
   "source": [
    "MODEL = 't5-base'\n",
    "tokenizer = T5Tokenizer.from_pretrained(MODEL)"
   ]
  },
  {
   "cell_type": "code",
   "execution_count": 20,
   "id": "144be13e",
   "metadata": {
    "execution": {
     "iopub.execute_input": "2022-05-10T13:38:32.918057Z",
     "iopub.status.busy": "2022-05-10T13:38:32.917390Z",
     "iopub.status.idle": "2022-05-10T13:38:32.921419Z",
     "shell.execute_reply": "2022-05-10T13:38:32.920773Z",
     "shell.execute_reply.started": "2022-05-10T12:52:46.488522Z"
    },
    "papermill": {
     "duration": 0.066127,
     "end_time": "2022-05-10T13:38:32.921567",
     "exception": false,
     "start_time": "2022-05-10T13:38:32.855440",
     "status": "completed"
    },
    "tags": []
   },
   "outputs": [
    {
     "data": {
      "text/html": [
       "<div>\n",
       "<style scoped>\n",
       "    .dataframe tbody tr th:only-of-type {\n",
       "        vertical-align: middle;\n",
       "    }\n",
       "\n",
       "    .dataframe tbody tr th {\n",
       "        vertical-align: top;\n",
       "    }\n",
       "\n",
       "    .dataframe thead th {\n",
       "        text-align: right;\n",
       "    }\n",
       "</style>\n",
       "<table border=\"1\" class=\"dataframe\">\n",
       "  <thead>\n",
       "    <tr style=\"text-align: right;\">\n",
       "      <th></th>\n",
       "      <th>headlines</th>\n",
       "      <th>text</th>\n",
       "    </tr>\n",
       "  </thead>\n",
       "  <tbody>\n",
       "    <tr>\n",
       "      <th>3911</th>\n",
       "      <td>trai chairman rs sharma said telecom regul adv...</td>\n",
       "      <td>new delhi apr 7 pti trai chairman r sharma tod...</td>\n",
       "    </tr>\n",
       "    <tr>\n",
       "      <th>1491</th>\n",
       "      <td>punjab haryana high court thursday observ go s...</td>\n",
       "      <td>punjab haryana high court divis bench hear mur...</td>\n",
       "    </tr>\n",
       "    <tr>\n",
       "      <th>4002</th>\n",
       "      <td>govern seek data deposit made individu demonet...</td>\n",
       "      <td>taxman seek data deposit made assesse demoneti...</td>\n",
       "    </tr>\n",
       "    <tr>\n",
       "      <th>2572</th>\n",
       "      <td>telecom depart made mandatori phone includ fea...</td>\n",
       "      <td>cite consum safeti especi women telecom depart...</td>\n",
       "    </tr>\n",
       "    <tr>\n",
       "      <th>1828</th>\n",
       "      <td>madra high court judg thursday express doubt d...</td>\n",
       "      <td>madra high court today express doubt decemb 5 ...</td>\n",
       "    </tr>\n",
       "    <tr>\n",
       "      <th>...</th>\n",
       "      <td>...</td>\n",
       "      <td>...</td>\n",
       "    </tr>\n",
       "    <tr>\n",
       "      <th>1933</th>\n",
       "      <td>delhi metro friday announc make 10 station cas...</td>\n",
       "      <td>delhi metro make 10 station across variou sect...</td>\n",
       "    </tr>\n",
       "    <tr>\n",
       "      <th>3421</th>\n",
       "      <td>water tanker scam happen 2012 sheila dikshit t...</td>\n",
       "      <td>sack delhi minist kapil mishra claim saw forme...</td>\n",
       "    </tr>\n",
       "    <tr>\n",
       "      <th>1455</th>\n",
       "      <td>court paper case 13 aap mla show delhi polic s...</td>\n",
       "      <td>delhi policearrest 13 mlasof rule aam aadmi pa...</td>\n",
       "    </tr>\n",
       "    <tr>\n",
       "      <th>3035</th>\n",
       "      <td>everi home patwa toli villag bihar gaya distri...</td>\n",
       "      <td>though bihar got defam topper scam xii board e...</td>\n",
       "    </tr>\n",
       "    <tr>\n",
       "      <th>1953</th>\n",
       "      <td>react former pm manmohan singh remark 50% indi...</td>\n",
       "      <td>prime minist narendra modi today hit back seni...</td>\n",
       "    </tr>\n",
       "  </tbody>\n",
       "</table>\n",
       "<p>3956 rows × 2 columns</p>\n",
       "</div>"
      ],
      "text/plain": [
       "                                              headlines  \\\n",
       "3911  trai chairman rs sharma said telecom regul adv...   \n",
       "1491  punjab haryana high court thursday observ go s...   \n",
       "4002  govern seek data deposit made individu demonet...   \n",
       "2572  telecom depart made mandatori phone includ fea...   \n",
       "1828  madra high court judg thursday express doubt d...   \n",
       "...                                                 ...   \n",
       "1933  delhi metro friday announc make 10 station cas...   \n",
       "3421  water tanker scam happen 2012 sheila dikshit t...   \n",
       "1455  court paper case 13 aap mla show delhi polic s...   \n",
       "3035  everi home patwa toli villag bihar gaya distri...   \n",
       "1953  react former pm manmohan singh remark 50% indi...   \n",
       "\n",
       "                                                   text  \n",
       "3911  new delhi apr 7 pti trai chairman r sharma tod...  \n",
       "1491  punjab haryana high court divis bench hear mur...  \n",
       "4002  taxman seek data deposit made assesse demoneti...  \n",
       "2572  cite consum safeti especi women telecom depart...  \n",
       "1828  madra high court today express doubt decemb 5 ...  \n",
       "...                                                 ...  \n",
       "1933  delhi metro make 10 station across variou sect...  \n",
       "3421  sack delhi minist kapil mishra claim saw forme...  \n",
       "1455  delhi policearrest 13 mlasof rule aam aadmi pa...  \n",
       "3035  though bihar got defam topper scam xii board e...  \n",
       "1953  prime minist narendra modi today hit back seni...  \n",
       "\n",
       "[3956 rows x 2 columns]"
      ]
     },
     "execution_count": 20,
     "metadata": {},
     "output_type": "execute_result"
    }
   ],
   "source": [
    "train_df"
   ]
  },
  {
   "cell_type": "code",
   "execution_count": 21,
   "id": "e8f10f2e",
   "metadata": {
    "execution": {
     "iopub.execute_input": "2022-05-10T13:38:33.031344Z",
     "iopub.status.busy": "2022-05-10T13:38:33.030587Z",
     "iopub.status.idle": "2022-05-10T13:38:39.978636Z",
     "shell.execute_reply": "2022-05-10T13:38:39.978026Z",
     "shell.execute_reply.started": "2022-05-10T12:52:46.503669Z"
    },
    "papermill": {
     "duration": 7.007179,
     "end_time": "2022-05-10T13:38:39.978786",
     "exception": false,
     "start_time": "2022-05-10T13:38:32.971607",
     "status": "completed"
    },
    "tags": []
   },
   "outputs": [
    {
     "name": "stderr",
     "output_type": "stream",
     "text": [
      "Token indices sequence length is longer than the specified maximum sequence length for this model (3056 > 512). Running this sequence through the model will result in indexing errors\n"
     ]
    },
    {
     "data": {
      "image/png": "[encoded data removed]",
      "text/plain": [
       "<Figure size 720x360 with 1 Axes>"
      ]
     },
     "metadata": {
      "needs_background": "light"
     },
     "output_type": "display_data"
    }
   ],
   "source": [
    "full_token_counts , summary_token_counts = [], []\n",
    "for i in range(len(train_df)):\n",
    "    data_row = train_df.iloc[i]\n",
    "    full_token_count = len(tokenizer.encode(data_row['text']))\n",
    "    summary_token_count = len(tokenizer.encode(data_row['headlines']))\n",
    "    full_token_counts.append(full_token_count)\n",
    "    summary_token_counts.append(summary_token_count)\n",
    "\n",
    "\n",
    "# plot the distribution of the token counts\n",
    "plt.figure(figsize=(10,5))\n",
    "plt.hist(full_token_counts, bins=100)\n",
    "plt.title('Full Token Counts')\n",
    "plt.xlabel('Token Count')\n",
    "plt.ylabel('Frequency')\n",
    "plt.show()"
   ]
  },
  {
   "cell_type": "code",
   "execution_count": 22,
   "id": "9b2f1919",
   "metadata": {
    "execution": {
     "iopub.execute_input": "2022-05-10T13:38:40.368702Z",
     "iopub.status.busy": "2022-05-10T13:38:40.088465Z",
     "iopub.status.idle": "2022-05-10T13:38:40.751451Z",
     "shell.execute_reply": "2022-05-10T13:38:40.751958Z",
     "shell.execute_reply.started": "2022-05-10T12:52:54.446064Z"
    },
    "papermill": {
     "duration": 0.722019,
     "end_time": "2022-05-10T13:38:40.752161",
     "exception": false,
     "start_time": "2022-05-10T13:38:40.030142",
     "status": "completed"
    },
    "tags": []
   },
   "outputs": [
    {
     "data": {
      "image/png": "[encoded data removed]",
      "text/plain": [
       "<Figure size 720x360 with 1 Axes>"
      ]
     },
     "metadata": {
      "needs_background": "light"
     },
     "output_type": "display_data"
    }
   ],
   "source": [
    "plt.figure(figsize=(10,5))\n",
    "plt.hist(summary_token_counts, bins=100)\n",
    "plt.title('summary Token Counts')\n",
    "plt.xlabel('Token Count')\n",
    "plt.ylabel('Frequency')\n",
    "plt.show()"
   ]
  },
  {
   "cell_type": "code",
   "execution_count": 23,
   "id": "53dbea40",
   "metadata": {
    "execution": {
     "iopub.execute_input": "2022-05-10T13:38:40.861814Z",
     "iopub.status.busy": "2022-05-10T13:38:40.859477Z",
     "iopub.status.idle": "2022-05-10T13:38:40.863949Z",
     "shell.execute_reply": "2022-05-10T13:38:40.864592Z",
     "shell.execute_reply.started": "2022-05-10T13:03:21.683567Z"
    },
    "papermill": {
     "duration": 0.060315,
     "end_time": "2022-05-10T13:38:40.864802",
     "exception": false,
     "start_time": "2022-05-10T13:38:40.804487",
     "status": "completed"
    },
    "tags": []
   },
   "outputs": [],
   "source": [
    "NUM_EPOCHS = 3\n",
    "BATCH_SIZE = 32\n",
    "\n",
    "data_module = SummarizerDataModule(train_df, test_df, tokenizer, BATCH_SIZE, 512, 128)"
   ]
  },
  {
   "cell_type": "code",
   "execution_count": 24,
   "id": "6d2e002a",
   "metadata": {
    "execution": {
     "iopub.execute_input": "2022-05-10T13:38:40.974982Z",
     "iopub.status.busy": "2022-05-10T13:38:40.974297Z",
     "iopub.status.idle": "2022-05-10T13:38:40.987745Z",
     "shell.execute_reply": "2022-05-10T13:38:40.988273Z",
     "shell.execute_reply.started": "2022-05-10T12:52:55.230308Z"
    },
    "papermill": {
     "duration": 0.070207,
     "end_time": "2022-05-10T13:38:40.988470",
     "exception": false,
     "start_time": "2022-05-10T13:38:40.918263",
     "status": "completed"
    },
    "tags": []
   },
   "outputs": [],
   "source": [
    "class SummarizerModel(pl.LightningModule):\n",
    "    def __init__(self):\n",
    "        super().__init__()\n",
    "        self.model = T5ForConditionalGeneration.from_pretrained(MODEL,return_dict=True)\n",
    "\n",
    "    def forward(self, input_ids, attention_mask, decoder_attention_mask, labels=None):\n",
    "        outputs = self.model(\n",
    "            input_ids,\n",
    "            attention_mask=attention_mask,\n",
    "            labels=labels,\n",
    "            decoder_attention_mask=decoder_attention_mask\n",
    "        )\n",
    "\n",
    "        return outputs.loss, outputs.logits\n",
    "\n",
    "    def training_step(self, batch, batch_size):\n",
    "        input_ids = batch['text_input_ids']\n",
    "        attention_mask = batch['text_attention_mask']\n",
    "        labels = batch['labels']\n",
    "        labels_attention_mask = batch['labels_attention_mask']\n",
    "\n",
    "        loss , outputs = self(input_ids = input_ids, attention_mask = attention_mask, decoder_attention_mask = labels_attention_mask, labels = labels)\n",
    "\n",
    "        self.log('train_loss', loss, prog_bar=True, logger=True)\n",
    "        return loss\n",
    "\n",
    "    def validation_step(self, batch, batch_size):\n",
    "        input_ids = batch['text_input_ids']\n",
    "        attention_mask = batch['text_attention_mask']\n",
    "        labels = batch['labels']\n",
    "        labels_attention_mask = batch['labels_attention_mask']\n",
    "\n",
    "        loss , outputs = self(input_ids = input_ids, attention_mask = attention_mask, decoder_attention_mask = labels_attention_mask, labels = labels)\n",
    "\n",
    "        self.log('val_loss', loss, prog_bar=True, logger=True)\n",
    "        return loss\n",
    "\n",
    "    def test_step(self, batch, batch_size):\n",
    "        input_ids = batch['text_input_ids']\n",
    "        attention_mask = batch['text_attention_mask']\n",
    "        labels = batch['labels']\n",
    "        labels_attention_mask = batch['labels_attention_mask']\n",
    "\n",
    "        loss, outputs = self(\n",
    "            input_ids=input_ids,\n",
    "            attention_mask=attention_mask,\n",
    "            decoder_attention_mask=labels_attention_mask,\n",
    "            labels=labels\n",
    "        )\n",
    "\n",
    "        self.log(\"test_loss\", loss, prog_bar=True, logger=True)\n",
    "        return loss\n",
    "\n",
    "    def optimizer(self):\n",
    "        return AdamW(self.parameters(), lr=1e-4)\n",
    "\n",
    "    "
   ]
  },
  {
   "cell_type": "code",
   "execution_count": 25,
   "id": "aaef2c48",
   "metadata": {
    "execution": {
     "iopub.execute_input": "2022-05-10T13:38:41.101386Z",
     "iopub.status.busy": "2022-05-10T13:38:41.098131Z",
     "iopub.status.idle": "2022-05-10T13:39:26.990081Z",
     "shell.execute_reply": "2022-05-10T13:39:26.990683Z",
     "shell.execute_reply.started": "2022-05-10T12:53:47.046043Z"
    },
    "papermill": {
     "duration": 45.950221,
     "end_time": "2022-05-10T13:39:26.990895",
     "exception": false,
     "start_time": "2022-05-10T13:38:41.040674",
     "status": "completed"
    },
    "tags": []
   },
   "outputs": [
    {
     "data": {
      "application/vnd.jupyter.widget-view+json": {
       "model_id": "adbabee17aae4ed28d609c011fc12131",
       "version_major": 2,
       "version_minor": 0
      },
      "text/plain": [
       "Downloading:   0%|          | 0.00/850M [00:00<?, ?B/s]"
      ]
     },
     "metadata": {},
     "output_type": "display_data"
    }
   ],
   "source": [
    "model = SummarizerModel()\n"
   ]
  },
  {
   "cell_type": "code",
   "execution_count": 26,
   "id": "3a42bce2",
   "metadata": {
    "execution": {
     "iopub.execute_input": "2022-05-10T13:39:27.244347Z",
     "iopub.status.busy": "2022-05-10T13:39:27.243258Z",
     "iopub.status.idle": "2022-05-10T13:39:33.864597Z",
     "shell.execute_reply": "2022-05-10T13:39:33.865795Z",
     "shell.execute_reply.started": "2022-05-10T12:55:28.621801Z"
    },
    "papermill": {
     "duration": 6.695991,
     "end_time": "2022-05-10T13:39:33.867039",
     "exception": false,
     "start_time": "2022-05-10T13:39:27.171048",
     "status": "completed"
    },
    "tags": []
   },
   "outputs": [
    {
     "data": {
      "text/html": [
       "\n",
       "      <iframe id=\"tensorboard-frame-fc43249a61e3b1d9\" width=\"100%\" height=\"800\" frameborder=\"0\">\n",
       "      </iframe>\n",
       "      <script>\n",
       "        (function() {\n",
       "          const frame = document.getElementById(\"tensorboard-frame-fc43249a61e3b1d9\");\n",
       "          const url = new URL(\"/\", window.location);\n",
       "          const port = 6006;\n",
       "          if (port) {\n",
       "            url.port = port;\n",
       "          }\n",
       "          frame.src = url;\n",
       "        })();\n",
       "      </script>\n",
       "    "
      ],
      "text/plain": [
       "<IPython.core.display.HTML object>"
      ]
     },
     "metadata": {},
     "output_type": "display_data"
    },
    {
     "name": "stdout",
     "output_type": "stream",
     "text": [
      "huggingface/tokenizers: The current process just got forked, after parallelism has already been used. Disabling parallelism to avoid deadlocks...\n",
      "To disable this warning, you can either:\n",
      "\t- Avoid using `tokenizers` before the fork if possible\n",
      "\t- Explicitly set the environment variable TOKENIZERS_PARALLELISM=(true | false)\n"
     ]
    }
   ],
   "source": [
    "%load_ext tensorboard\n",
    "%tensorboard --logdir ./lightning_logs"
   ]
  },
  {
   "cell_type": "code",
   "execution_count": 27,
   "id": "0e93f9a1",
   "metadata": {
    "execution": {
     "iopub.execute_input": "2022-05-10T13:39:34.015459Z",
     "iopub.status.busy": "2022-05-10T13:39:34.014537Z",
     "iopub.status.idle": "2022-05-10T13:39:34.020737Z",
     "shell.execute_reply": "2022-05-10T13:39:34.021444Z",
     "shell.execute_reply.started": "2022-05-10T13:03:42.142780Z"
    },
    "papermill": {
     "duration": 0.07769,
     "end_time": "2022-05-10T13:39:34.021693",
     "exception": false,
     "start_time": "2022-05-10T13:39:33.944003",
     "status": "completed"
    },
    "tags": []
   },
   "outputs": [],
   "source": [
    "# from pytorch_lightning.callbacks import ModelCheckpoint\n",
    "# from pytorch_lightning.loggers import TensorBoardLogger\n",
    "\n",
    "# checkpoint_callback = ModelCheckpoint(\n",
    "#     dirpath='checkpoints',\n",
    "#     filename='best-checkpoint',\n",
    "#     save_top_k=1,\n",
    "#     verbose=True,\n",
    "#     monitor='val_loss',\n",
    "#     mode='min'\n",
    "# )\n",
    "\n",
    "# logger = TensorBoardLogger(\"lightning_logs\", name='news-summary')\n",
    "\n",
    "# trainer = pl.Trainer(\n",
    "#     logger=logger,\n",
    "#     checkpoint_callback=checkpoint_callback,\n",
    "#     max_epochs = NUM_EPOCHS,\n",
    "#     gpus=1,\n",
    "#     progress_bar_refresh_rate=30\n",
    "# )"
   ]
  },
  {
   "cell_type": "code",
   "execution_count": null,
   "id": "a153d714",
   "metadata": {
    "papermill": {
     "duration": 0.094413,
     "end_time": "2022-05-10T13:39:34.193872",
     "exception": false,
     "start_time": "2022-05-10T13:39:34.099459",
     "status": "completed"
    },
    "tags": []
   },
   "outputs": [],
   "source": []
  }
 ],
 "metadata": {
  "kernelspec": {
   "display_name": "Python 3",
   "language": "python",
   "name": "python3"
  },
  "language_info": {
   "codemirror_mode": {
    "name": "ipython",
    "version": 3
   },
   "file_extension": ".py",
   "mimetype": "text/x-python",
   "name": "python",
   "nbconvert_exporter": "python",
   "pygments_lexer": "ipython3",
   "version": "3.7.12"
  },
  "papermill": {
   "default_parameters": {},
   "duration": 364.851226,
   "end_time": "2022-05-10T13:39:37.700762",
   "environment_variables": {},
   "exception": null,
   "input_path": "__notebook__.ipynb",
   "output_path": "__notebook__.ipynb",
   "parameters": {},
   "start_time": "2022-05-10T13:33:32.849536",
   "version": "2.3.3"
  },
  "widgets": {
   "application/vnd.jupyter.widget-state+json": {
    "state": {
     "0bae4b3f7ff248e88eca4dc65018216b": {
      "model_module": "@jupyter-widgets/base",
      "model_module_version": "1.2.0",
      "model_name": "LayoutModel",
      "state": {
       "_model_module": "@jupyter-widgets/base",
       "_model_module_version": "1.2.0",
       "_model_name": "LayoutModel",
       "_view_count": null,
       "_view_module": "@jupyter-widgets/base",
       "_view_module_version": "1.2.0",
       "_view_name": "LayoutView",
       "align_content": null,
       "align_items": null,
       "align_self": null,
       "border": null,
       "bottom": null,
       "display": null,
       "flex": null,
       "flex_flow": null,
       "grid_area": null,
       "grid_auto_columns": null,
       "grid_auto_flow": null,
       "grid_auto_rows": null,
       "grid_column": null,
       "grid_gap": null,
       "grid_row": null,
       "grid_template_areas": null,
       "grid_template_columns": null,
       "grid_template_rows": null,
       "height": null,
       "justify_content": null,
       "justify_items": null,
       "left": null,
       "margin": null,
       "max_height": null,
       "max_width": null,
       "min_height": null,
       "min_width": null,
       "object_fit": null,
       "object_position": null,
       "order": null,
       "overflow": null,
       "overflow_x": null,
       "overflow_y": null,
       "padding": null,
       "right": null,
       "top": null,
       "visibility": null,
       "width": null
      }
     },
     "12c30d095a3344049ff745b7593bbd32": {
      "model_module": "@jupyter-widgets/controls",
      "model_module_version": "1.5.0",
      "model_name": "FloatProgressModel",
      "state": {
       "_dom_classes": [],
       "_model_module": "@jupyter-widgets/controls",
       "_model_module_version": "1.5.0",
       "_model_name": "FloatProgressModel",
       "_view_count": null,
       "_view_module": "@jupyter-widgets/controls",
       "_view_module_version": "1.5.0",
       "_view_name": "ProgressView",
       "bar_style": "success",
       "description": "",
       "description_tooltip": null,
       "layout": "IPY_MODEL_bcf7393beaa8458d822a2a0d74520570",
       "max": 1199.0,
       "min": 0.0,
       "orientation": "horizontal",
       "style": "IPY_MODEL_77232e1228d34f82a5ea91c8b1321829",
       "value": 1199.0
      }
     },
     "1bcf05c0c873400889fc220bc79e1ca5": {
      "model_module": "@jupyter-widgets/controls",
      "model_module_version": "1.5.0",
      "model_name": "HTMLModel",
      "state": {
       "_dom_classes": [],
       "_model_module": "@jupyter-widgets/controls",
       "_model_module_version": "1.5.0",
       "_model_name": "HTMLModel",
       "_view_count": null,
       "_view_module": "@jupyter-widgets/controls",
       "_view_module_version": "1.5.0",
       "_view_name": "HTMLView",
       "description": "",
       "description_tooltip": null,
       "layout": "IPY_MODEL_9a6c3f64195345cc97e3cad51e9481b6",
       "placeholder": "​",
       "style": "IPY_MODEL_3a52bb1c10a040a38fc8814a6894e87a",
       "value": " 773k/773k [00:00&lt;00:00, 931kB/s]"
      }
     },
     "1c784fda84844e1fbbc3c102723f20b0": {
      "model_module": "@jupyter-widgets/controls",
      "model_module_version": "1.5.0",
      "model_name": "HTMLModel",
      "state": {
       "_dom_classes": [],
       "_model_module": "@jupyter-widgets/controls",
       "_model_module_version": "1.5.0",
       "_model_name": "HTMLModel",
       "_view_count": null,
       "_view_module": "@jupyter-widgets/controls",
       "_view_module_version": "1.5.0",
       "_view_name": "HTMLView",
       "description": "",
       "description_tooltip": null,
       "layout": "IPY_MODEL_bd0bd6ba5b714ed2ac68c13a61f0362e",
       "placeholder": "​",
       "style": "IPY_MODEL_9cf954b38175400da63cfd1dfda7a2ce",
       "value": "Downloading: 100%"
      }
     },
     "2345601511984ccd92efd8faad254d12": {
      "model_module": "@jupyter-widgets/controls",
      "model_module_version": "1.5.0",
      "model_name": "DescriptionStyleModel",
      "state": {
       "_model_module": "@jupyter-widgets/controls",
       "_model_module_version": "1.5.0",
       "_model_name": "DescriptionStyleModel",
       "_view_count": null,
       "_view_module": "@jupyter-widgets/base",
       "_view_module_version": "1.2.0",
       "_view_name": "StyleView",
       "description_width": ""
      }
     },
     "2cd57d2e3bb0458698c66deb6b494ed4": {
      "model_module": "@jupyter-widgets/controls",
      "model_module_version": "1.5.0",
      "model_name": "HBoxModel",
      "state": {
       "_dom_classes": [],
       "_model_module": "@jupyter-widgets/controls",
       "_model_module_version": "1.5.0",
       "_model_name": "HBoxModel",
       "_view_count": null,
       "_view_module": "@jupyter-widgets/controls",
       "_view_module_version": "1.5.0",
       "_view_name": "HBoxView",
       "box_style": "",
       "children": [
        "IPY_MODEL_6ae88088f5b145b3a2a4b843b6862b19",
        "IPY_MODEL_a7b5119cc02b49d884e630b1ce0dcdda",
        "IPY_MODEL_3fd9472c3034452bbb526b3b597744a4"
       ],
       "layout": "IPY_MODEL_b6931ccc7500455d8ce51f0e55256f53"
      }
     },
     "2e511d9d061947538d06529c69dae954": {
      "model_module": "@jupyter-widgets/base",
      "model_module_version": "1.2.0",
      "model_name": "LayoutModel",
      "state": {
       "_model_module": "@jupyter-widgets/base",
       "_model_module_version": "1.2.0",
       "_model_name": "LayoutModel",
       "_view_count": null,
       "_view_module": "@jupyter-widgets/base",
       "_view_module_version": "1.2.0",
       "_view_name": "LayoutView",
       "align_content": null,
       "align_items": null,
       "align_self": null,
       "border": null,
       "bottom": null,
       "display": null,
       "flex": null,
       "flex_flow": null,
       "grid_area": null,
       "grid_auto_columns": null,
       "grid_auto_flow": null,
       "grid_auto_rows": null,
       "grid_column": null,
       "grid_gap": null,
       "grid_row": null,
       "grid_template_areas": null,
       "grid_template_columns": null,
       "grid_template_rows": null,
       "height": null,
       "justify_content": null,
       "justify_items": null,
       "left": null,
       "margin": null,
       "max_height": null,
       "max_width": null,
       "min_height": null,
       "min_width": null,
       "object_fit": null,
       "object_position": null,
       "order": null,
       "overflow": null,
       "overflow_x": null,
       "overflow_y": null,
       "padding": null,
       "right": null,
       "top": null,
       "visibility": null,
       "width": null
      }
     },
     "30cbb17fb0ea43ef95dab89912462d8d": {
      "model_module": "@jupyter-widgets/base",
      "model_module_version": "1.2.0",
      "model_name": "LayoutModel",
      "state": {
       "_model_module": "@jupyter-widgets/base",
       "_model_module_version": "1.2.0",
       "_model_name": "LayoutModel",
       "_view_count": null,
       "_view_module": "@jupyter-widgets/base",
       "_view_module_version": "1.2.0",
       "_view_name": "LayoutView",
       "align_content": null,
       "align_items": null,
       "align_self": null,
       "border": null,
       "bottom": null,
       "display": null,
       "flex": null,
       "flex_flow": null,
       "grid_area": null,
       "grid_auto_columns": null,
       "grid_auto_flow": null,
       "grid_auto_rows": null,
       "grid_column": null,
       "grid_gap": null,
       "grid_row": null,
       "grid_template_areas": null,
       "grid_template_columns": null,
       "grid_template_rows": null,
       "height": null,
       "justify_content": null,
       "justify_items": null,
       "left": null,
       "margin": null,
       "max_height": null,
       "max_width": null,
       "min_height": null,
       "min_width": null,
       "object_fit": null,
       "object_position": null,
       "order": null,
       "overflow": null,
       "overflow_x": null,
       "overflow_y": null,
       "padding": null,
       "right": null,
       "top": null,
       "visibility": null,
       "width": null
      }
     },
     "32b8067c05b641adb9dd26076f856458": {
      "model_module": "@jupyter-widgets/controls",
      "model_module_version": "1.5.0",
      "model_name": "DescriptionStyleModel",
      "state": {
       "_model_module": "@jupyter-widgets/controls",
       "_model_module_version": "1.5.0",
       "_model_name": "DescriptionStyleModel",
       "_view_count": null,
       "_view_module": "@jupyter-widgets/base",
       "_view_module_version": "1.2.0",
       "_view_name": "StyleView",
       "description_width": ""
      }
     },
     "3a52bb1c10a040a38fc8814a6894e87a": {
      "model_module": "@jupyter-widgets/controls",
      "model_module_version": "1.5.0",
      "model_name": "DescriptionStyleModel",
      "state": {
       "_model_module": "@jupyter-widgets/controls",
       "_model_module_version": "1.5.0",
       "_model_name": "DescriptionStyleModel",
       "_view_count": null,
       "_view_module": "@jupyter-widgets/base",
       "_view_module_version": "1.2.0",
       "_view_name": "StyleView",
       "description_width": ""
      }
     },
     "3fd9472c3034452bbb526b3b597744a4": {
      "model_module": "@jupyter-widgets/controls",
      "model_module_version": "1.5.0",
      "model_name": "HTMLModel",
      "state": {
       "_dom_classes": [],
       "_model_module": "@jupyter-widgets/controls",
       "_model_module_version": "1.5.0",
       "_model_name": "HTMLModel",
       "_view_count": null,
       "_view_module": "@jupyter-widgets/controls",
       "_view_module_version": "1.5.0",
       "_view_name": "HTMLView",
       "description": "",
       "description_tooltip": null,
       "layout": "IPY_MODEL_30cbb17fb0ea43ef95dab89912462d8d",
       "placeholder": "​",
       "style": "IPY_MODEL_61ababdcf5c8486bb5bcb88784831814",
       "value": " 1.32M/1.32M [00:00&lt;00:00, 2.56MB/s]"
      }
     },
     "44d03671c9b145948586962785155f10": {
      "model_module": "@jupyter-widgets/controls",
      "model_module_version": "1.5.0",
      "model_name": "HBoxModel",
      "state": {
       "_dom_classes": [],
       "_model_module": "@jupyter-widgets/controls",
       "_model_module_version": "1.5.0",
       "_model_name": "HBoxModel",
       "_view_count": null,
       "_view_module": "@jupyter-widgets/controls",
       "_view_module_version": "1.5.0",
       "_view_name": "HBoxView",
       "box_style": "",
       "children": [
        "IPY_MODEL_c9854739bde846d4895af079388bf66c",
        "IPY_MODEL_cc210d8b8ea84eb1acb3032cf4329ed4",
        "IPY_MODEL_1bcf05c0c873400889fc220bc79e1ca5"
       ],
       "layout": "IPY_MODEL_c0a2900a5b55481f9e599ff6fba2de3a"
      }
     },
     "486f6b1565c64a85a9cea72ec56364ae": {
      "model_module": "@jupyter-widgets/controls",
      "model_module_version": "1.5.0",
      "model_name": "DescriptionStyleModel",
      "state": {
       "_model_module": "@jupyter-widgets/controls",
       "_model_module_version": "1.5.0",
       "_model_name": "DescriptionStyleModel",
       "_view_count": null,
       "_view_module": "@jupyter-widgets/base",
       "_view_module_version": "1.2.0",
       "_view_name": "StyleView",
       "description_width": ""
      }
     },
     "511dc2c59ea044589dbe6841d60768a1": {
      "model_module": "@jupyter-widgets/controls",
      "model_module_version": "1.5.0",
      "model_name": "ProgressStyleModel",
      "state": {
       "_model_module": "@jupyter-widgets/controls",
       "_model_module_version": "1.5.0",
       "_model_name": "ProgressStyleModel",
       "_view_count": null,
       "_view_module": "@jupyter-widgets/base",
       "_view_module_version": "1.2.0",
       "_view_name": "StyleView",
       "bar_color": null,
       "description_width": ""
      }
     },
     "5323066ca809498aafcbce2cf73280d4": {
      "model_module": "@jupyter-widgets/controls",
      "model_module_version": "1.5.0",
      "model_name": "HTMLModel",
      "state": {
       "_dom_classes": [],
       "_model_module": "@jupyter-widgets/controls",
       "_model_module_version": "1.5.0",
       "_model_name": "HTMLModel",
       "_view_count": null,
       "_view_module": "@jupyter-widgets/controls",
       "_view_module_version": "1.5.0",
       "_view_name": "HTMLView",
       "description": "",
       "description_tooltip": null,
       "layout": "IPY_MODEL_2e511d9d061947538d06529c69dae954",
       "placeholder": "​",
       "style": "IPY_MODEL_2345601511984ccd92efd8faad254d12",
       "value": "Downloading: 100%"
      }
     },
     "5fa3363d9573432d94c138ab2da8724a": {
      "model_module": "@jupyter-widgets/controls",
      "model_module_version": "1.5.0",
      "model_name": "HTMLModel",
      "state": {
       "_dom_classes": [],
       "_model_module": "@jupyter-widgets/controls",
       "_model_module_version": "1.5.0",
       "_model_name": "HTMLModel",
       "_view_count": null,
       "_view_module": "@jupyter-widgets/controls",
       "_view_module_version": "1.5.0",
       "_view_name": "HTMLView",
       "description": "",
       "description_tooltip": null,
       "layout": "IPY_MODEL_0bae4b3f7ff248e88eca4dc65018216b",
       "placeholder": "​",
       "style": "IPY_MODEL_486f6b1565c64a85a9cea72ec56364ae",
       "value": " 1.17k/1.17k [00:00&lt;00:00, 41.5kB/s]"
      }
     },
     "61ababdcf5c8486bb5bcb88784831814": {
      "model_module": "@jupyter-widgets/controls",
      "model_module_version": "1.5.0",
      "model_name": "DescriptionStyleModel",
      "state": {
       "_model_module": "@jupyter-widgets/controls",
       "_model_module_version": "1.5.0",
       "_model_name": "DescriptionStyleModel",
       "_view_count": null,
       "_view_module": "@jupyter-widgets/base",
       "_view_module_version": "1.2.0",
       "_view_name": "StyleView",
       "description_width": ""
      }
     },
     "6ae88088f5b145b3a2a4b843b6862b19": {
      "model_module": "@jupyter-widgets/controls",
      "model_module_version": "1.5.0",
      "model_name": "HTMLModel",
      "state": {
       "_dom_classes": [],
       "_model_module": "@jupyter-widgets/controls",
       "_model_module_version": "1.5.0",
       "_model_name": "HTMLModel",
       "_view_count": null,
       "_view_module": "@jupyter-widgets/controls",
       "_view_module_version": "1.5.0",
       "_view_name": "HTMLView",
       "description": "",
       "description_tooltip": null,
       "layout": "IPY_MODEL_700025b7ded94c7ca1ed68907a6b14ae",
       "placeholder": "​",
       "style": "IPY_MODEL_32b8067c05b641adb9dd26076f856458",
       "value": "Downloading: 100%"
      }
     },
     "700025b7ded94c7ca1ed68907a6b14ae": {
      "model_module": "@jupyter-widgets/base",
      "model_module_version": "1.2.0",
      "model_name": "LayoutModel",
      "state": {
       "_model_module": "@jupyter-widgets/base",
       "_model_module_version": "1.2.0",
       "_model_name": "LayoutModel",
       "_view_count": null,
       "_view_module": "@jupyter-widgets/base",
       "_view_module_version": "1.2.0",
       "_view_name": "LayoutView",
       "align_content": null,
       "align_items": null,
       "align_self": null,
       "border": null,
       "bottom": null,
       "display": null,
       "flex": null,
       "flex_flow": null,
       "grid_area": null,
       "grid_auto_columns": null,
       "grid_auto_flow": null,
       "grid_auto_rows": null,
       "grid_column": null,
       "grid_gap": null,
       "grid_row": null,
       "grid_template_areas": null,
       "grid_template_columns": null,
       "grid_template_rows": null,
       "height": null,
       "justify_content": null,
       "justify_items": null,
       "left": null,
       "margin": null,
       "max_height": null,
       "max_width": null,
       "min_height": null,
       "min_width": null,
       "object_fit": null,
       "object_position": null,
       "order": null,
       "overflow": null,
       "overflow_x": null,
       "overflow_y": null,
       "padding": null,
       "right": null,
       "top": null,
       "visibility": null,
       "width": null
      }
     },
     "70e28391efac49c1a947103a7242b711": {
      "model_module": "@jupyter-widgets/base",
      "model_module_version": "1.2.0",
      "model_name": "LayoutModel",
      "state": {
       "_model_module": "@jupyter-widgets/base",
       "_model_module_version": "1.2.0",
       "_model_name": "LayoutModel",
       "_view_count": null,
       "_view_module": "@jupyter-widgets/base",
       "_view_module_version": "1.2.0",
       "_view_name": "LayoutView",
       "align_content": null,
       "align_items": null,
       "align_self": null,
       "border": null,
       "bottom": null,
       "display": null,
       "flex": null,
       "flex_flow": null,
       "grid_area": null,
       "grid_auto_columns": null,
       "grid_auto_flow": null,
       "grid_auto_rows": null,
       "grid_column": null,
       "grid_gap": null,
       "grid_row": null,
       "grid_template_areas": null,
       "grid_template_columns": null,
       "grid_template_rows": null,
       "height": null,
       "justify_content": null,
       "justify_items": null,
       "left": null,
       "margin": null,
       "max_height": null,
       "max_width": null,
       "min_height": null,
       "min_width": null,
       "object_fit": null,
       "object_position": null,
       "order": null,
       "overflow": null,
       "overflow_x": null,
       "overflow_y": null,
       "padding": null,
       "right": null,
       "top": null,
       "visibility": null,
       "width": null
      }
     },
     "77232e1228d34f82a5ea91c8b1321829": {
      "model_module": "@jupyter-widgets/controls",
      "model_module_version": "1.5.0",
      "model_name": "ProgressStyleModel",
      "state": {
       "_model_module": "@jupyter-widgets/controls",
       "_model_module_version": "1.5.0",
       "_model_name": "ProgressStyleModel",
       "_view_count": null,
       "_view_module": "@jupyter-widgets/base",
       "_view_module_version": "1.2.0",
       "_view_name": "StyleView",
       "bar_color": null,
       "description_width": ""
      }
     },
     "776e347506f045e89d58f013ffda5863": {
      "model_module": "@jupyter-widgets/controls",
      "model_module_version": "1.5.0",
      "model_name": "ProgressStyleModel",
      "state": {
       "_model_module": "@jupyter-widgets/controls",
       "_model_module_version": "1.5.0",
       "_model_name": "ProgressStyleModel",
       "_view_count": null,
       "_view_module": "@jupyter-widgets/base",
       "_view_module_version": "1.2.0",
       "_view_name": "StyleView",
       "bar_color": null,
       "description_width": ""
      }
     },
     "8195f5358a89437cb0bcf7a9f337d63b": {
      "model_module": "@jupyter-widgets/base",
      "model_module_version": "1.2.0",
      "model_name": "LayoutModel",
      "state": {
       "_model_module": "@jupyter-widgets/base",
       "_model_module_version": "1.2.0",
       "_model_name": "LayoutModel",
       "_view_count": null,
       "_view_module": "@jupyter-widgets/base",
       "_view_module_version": "1.2.0",
       "_view_name": "LayoutView",
       "align_content": null,
       "align_items": null,
       "align_self": null,
       "border": null,
       "bottom": null,
       "display": null,
       "flex": null,
       "flex_flow": null,
       "grid_area": null,
       "grid_auto_columns": null,
       "grid_auto_flow": null,
       "grid_auto_rows": null,
       "grid_column": null,
       "grid_gap": null,
       "grid_row": null,
       "grid_template_areas": null,
       "grid_template_columns": null,
       "grid_template_rows": null,
       "height": null,
       "justify_content": null,
       "justify_items": null,
       "left": null,
       "margin": null,
       "max_height": null,
       "max_width": null,
       "min_height": null,
       "min_width": null,
       "object_fit": null,
       "object_position": null,
       "order": null,
       "overflow": null,
       "overflow_x": null,
       "overflow_y": null,
       "padding": null,
       "right": null,
       "top": null,
       "visibility": null,
       "width": null
      }
     },
     "829c4eab3c714a2cb192f3932541c161": {
      "model_module": "@jupyter-widgets/controls",
      "model_module_version": "1.5.0",
      "model_name": "DescriptionStyleModel",
      "state": {
       "_model_module": "@jupyter-widgets/controls",
       "_model_module_version": "1.5.0",
       "_model_name": "DescriptionStyleModel",
       "_view_count": null,
       "_view_module": "@jupyter-widgets/base",
       "_view_module_version": "1.2.0",
       "_view_name": "StyleView",
       "description_width": ""
      }
     },
     "9a6c3f64195345cc97e3cad51e9481b6": {
      "model_module": "@jupyter-widgets/base",
      "model_module_version": "1.2.0",
      "model_name": "LayoutModel",
      "state": {
       "_model_module": "@jupyter-widgets/base",
       "_model_module_version": "1.2.0",
       "_model_name": "LayoutModel",
       "_view_count": null,
       "_view_module": "@jupyter-widgets/base",
       "_view_module_version": "1.2.0",
       "_view_name": "LayoutView",
       "align_content": null,
       "align_items": null,
       "align_self": null,
       "border": null,
       "bottom": null,
       "display": null,
       "flex": null,
       "flex_flow": null,
       "grid_area": null,
       "grid_auto_columns": null,
       "grid_auto_flow": null,
       "grid_auto_rows": null,
       "grid_column": null,
       "grid_gap": null,
       "grid_row": null,
       "grid_template_areas": null,
       "grid_template_columns": null,
       "grid_template_rows": null,
       "height": null,
       "justify_content": null,
       "justify_items": null,
       "left": null,
       "margin": null,
       "max_height": null,
       "max_width": null,
       "min_height": null,
       "min_width": null,
       "object_fit": null,
       "object_position": null,
       "order": null,
       "overflow": null,
       "overflow_x": null,
       "overflow_y": null,
       "padding": null,
       "right": null,
       "top": null,
       "visibility": null,
       "width": null
      }
     },
     "9cf954b38175400da63cfd1dfda7a2ce": {
      "model_module": "@jupyter-widgets/controls",
      "model_module_version": "1.5.0",
      "model_name": "DescriptionStyleModel",
      "state": {
       "_model_module": "@jupyter-widgets/controls",
       "_model_module_version": "1.5.0",
       "_model_name": "DescriptionStyleModel",
       "_view_count": null,
       "_view_module": "@jupyter-widgets/base",
       "_view_module_version": "1.2.0",
       "_view_name": "StyleView",
       "description_width": ""
      }
     },
     "9d9459f4e7db4a8eaaee0f04d0d0322b": {
      "model_module": "@jupyter-widgets/base",
      "model_module_version": "1.2.0",
      "model_name": "LayoutModel",
      "state": {
       "_model_module": "@jupyter-widgets/base",
       "_model_module_version": "1.2.0",
       "_model_name": "LayoutModel",
       "_view_count": null,
       "_view_module": "@jupyter-widgets/base",
       "_view_module_version": "1.2.0",
       "_view_name": "LayoutView",
       "align_content": null,
       "align_items": null,
       "align_self": null,
       "border": null,
       "bottom": null,
       "display": null,
       "flex": null,
       "flex_flow": null,
       "grid_area": null,
       "grid_auto_columns": null,
       "grid_auto_flow": null,
       "grid_auto_rows": null,
       "grid_column": null,
       "grid_gap": null,
       "grid_row": null,
       "grid_template_areas": null,
       "grid_template_columns": null,
       "grid_template_rows": null,
       "height": null,
       "justify_content": null,
       "justify_items": null,
       "left": null,
       "margin": null,
       "max_height": null,
       "max_width": null,
       "min_height": null,
       "min_width": null,
       "object_fit": null,
       "object_position": null,
       "order": null,
       "overflow": null,
       "overflow_x": null,
       "overflow_y": null,
       "padding": null,
       "right": null,
       "top": null,
       "visibility": null,
       "width": null
      }
     },
     "a286a33992fc477796b41f3e4025eff9": {
      "model_module": "@jupyter-widgets/base",
      "model_module_version": "1.2.0",
      "model_name": "LayoutModel",
      "state": {
       "_model_module": "@jupyter-widgets/base",
       "_model_module_version": "1.2.0",
       "_model_name": "LayoutModel",
       "_view_count": null,
       "_view_module": "@jupyter-widgets/base",
       "_view_module_version": "1.2.0",
       "_view_name": "LayoutView",
       "align_content": null,
       "align_items": null,
       "align_self": null,
       "border": null,
       "bottom": null,
       "display": null,
       "flex": null,
       "flex_flow": null,
       "grid_area": null,
       "grid_auto_columns": null,
       "grid_auto_flow": null,
       "grid_auto_rows": null,
       "grid_column": null,
       "grid_gap": null,
       "grid_row": null,
       "grid_template_areas": null,
       "grid_template_columns": null,
       "grid_template_rows": null,
       "height": null,
       "justify_content": null,
       "justify_items": null,
       "left": null,
       "margin": null,
       "max_height": null,
       "max_width": null,
       "min_height": null,
       "min_width": null,
       "object_fit": null,
       "object_position": null,
       "order": null,
       "overflow": null,
       "overflow_x": null,
       "overflow_y": null,
       "padding": null,
       "right": null,
       "top": null,
       "visibility": null,
       "width": null
      }
     },
     "a7b5119cc02b49d884e630b1ce0dcdda": {
      "model_module": "@jupyter-widgets/controls",
      "model_module_version": "1.5.0",
      "model_name": "FloatProgressModel",
      "state": {
       "_dom_classes": [],
       "_model_module": "@jupyter-widgets/controls",
       "_model_module_version": "1.5.0",
       "_model_name": "FloatProgressModel",
       "_view_count": null,
       "_view_module": "@jupyter-widgets/controls",
       "_view_module_version": "1.5.0",
       "_view_name": "ProgressView",
       "bar_style": "success",
       "description": "",
       "description_tooltip": null,
       "layout": "IPY_MODEL_a286a33992fc477796b41f3e4025eff9",
       "max": 1389353.0,
       "min": 0.0,
       "orientation": "horizontal",
       "style": "IPY_MODEL_511dc2c59ea044589dbe6841d60768a1",
       "value": 1389353.0
      }
     },
     "abf646f77ad6447ba343788a1a8a5fbb": {
      "model_module": "@jupyter-widgets/controls",
      "model_module_version": "1.5.0",
      "model_name": "HBoxModel",
      "state": {
       "_dom_classes": [],
       "_model_module": "@jupyter-widgets/controls",
       "_model_module_version": "1.5.0",
       "_model_name": "HBoxModel",
       "_view_count": null,
       "_view_module": "@jupyter-widgets/controls",
       "_view_module_version": "1.5.0",
       "_view_name": "HBoxView",
       "box_style": "",
       "children": [
        "IPY_MODEL_5323066ca809498aafcbce2cf73280d4",
        "IPY_MODEL_12c30d095a3344049ff745b7593bbd32",
        "IPY_MODEL_5fa3363d9573432d94c138ab2da8724a"
       ],
       "layout": "IPY_MODEL_9d9459f4e7db4a8eaaee0f04d0d0322b"
      }
     },
     "adbabee17aae4ed28d609c011fc12131": {
      "model_module": "@jupyter-widgets/controls",
      "model_module_version": "1.5.0",
      "model_name": "HBoxModel",
      "state": {
       "_dom_classes": [],
       "_model_module": "@jupyter-widgets/controls",
       "_model_module_version": "1.5.0",
       "_model_name": "HBoxModel",
       "_view_count": null,
       "_view_module": "@jupyter-widgets/controls",
       "_view_module_version": "1.5.0",
       "_view_name": "HBoxView",
       "box_style": "",
       "children": [
        "IPY_MODEL_1c784fda84844e1fbbc3c102723f20b0",
        "IPY_MODEL_c9250283517a4ab3a3eccce5f6e5c2ea",
        "IPY_MODEL_edcfb2ee07324723aba96e4d413cc632"
       ],
       "layout": "IPY_MODEL_8195f5358a89437cb0bcf7a9f337d63b"
      }
     },
     "b6931ccc7500455d8ce51f0e55256f53": {
      "model_module": "@jupyter-widgets/base",
      "model_module_version": "1.2.0",
      "model_name": "LayoutModel",
      "state": {
       "_model_module": "@jupyter-widgets/base",
       "_model_module_version": "1.2.0",
       "_model_name": "LayoutModel",
       "_view_count": null,
       "_view_module": "@jupyter-widgets/base",
       "_view_module_version": "1.2.0",
       "_view_name": "LayoutView",
       "align_content": null,
       "align_items": null,
       "align_self": null,
       "border": null,
       "bottom": null,
       "display": null,
       "flex": null,
       "flex_flow": null,
       "grid_area": null,
       "grid_auto_columns": null,
       "grid_auto_flow": null,
       "grid_auto_rows": null,
       "grid_column": null,
       "grid_gap": null,
       "grid_row": null,
       "grid_template_areas": null,
       "grid_template_columns": null,
       "grid_template_rows": null,
       "height": null,
       "justify_content": null,
       "justify_items": null,
       "left": null,
       "margin": null,
       "max_height": null,
       "max_width": null,
       "min_height": null,
       "min_width": null,
       "object_fit": null,
       "object_position": null,
       "order": null,
       "overflow": null,
       "overflow_x": null,
       "overflow_y": null,
       "padding": null,
       "right": null,
       "top": null,
       "visibility": null,
       "width": null
      }
     },
     "bc43a34f389e46289e9ba4e518e4e231": {
      "model_module": "@jupyter-widgets/base",
      "model_module_version": "1.2.0",
      "model_name": "LayoutModel",
      "state": {
       "_model_module": "@jupyter-widgets/base",
       "_model_module_version": "1.2.0",
       "_model_name": "LayoutModel",
       "_view_count": null,
       "_view_module": "@jupyter-widgets/base",
       "_view_module_version": "1.2.0",
       "_view_name": "LayoutView",
       "align_content": null,
       "align_items": null,
       "align_self": null,
       "border": null,
       "bottom": null,
       "display": null,
       "flex": null,
       "flex_flow": null,
       "grid_area": null,
       "grid_auto_columns": null,
       "grid_auto_flow": null,
       "grid_auto_rows": null,
       "grid_column": null,
       "grid_gap": null,
       "grid_row": null,
       "grid_template_areas": null,
       "grid_template_columns": null,
       "grid_template_rows": null,
       "height": null,
       "justify_content": null,
       "justify_items": null,
       "left": null,
       "margin": null,
       "max_height": null,
       "max_width": null,
       "min_height": null,
       "min_width": null,
       "object_fit": null,
       "object_position": null,
       "order": null,
       "overflow": null,
       "overflow_x": null,
       "overflow_y": null,
       "padding": null,
       "right": null,
       "top": null,
       "visibility": null,
       "width": null
      }
     },
     "bcf7393beaa8458d822a2a0d74520570": {
      "model_module": "@jupyter-widgets/base",
      "model_module_version": "1.2.0",
      "model_name": "LayoutModel",
      "state": {
       "_model_module": "@jupyter-widgets/base",
       "_model_module_version": "1.2.0",
       "_model_name": "LayoutModel",
       "_view_count": null,
       "_view_module": "@jupyter-widgets/base",
       "_view_module_version": "1.2.0",
       "_view_name": "LayoutView",
       "align_content": null,
       "align_items": null,
       "align_self": null,
       "border": null,
       "bottom": null,
       "display": null,
       "flex": null,
       "flex_flow": null,
       "grid_area": null,
       "grid_auto_columns": null,
       "grid_auto_flow": null,
       "grid_auto_rows": null,
       "grid_column": null,
       "grid_gap": null,
       "grid_row": null,
       "grid_template_areas": null,
       "grid_template_columns": null,
       "grid_template_rows": null,
       "height": null,
       "justify_content": null,
       "justify_items": null,
       "left": null,
       "margin": null,
       "max_height": null,
       "max_width": null,
       "min_height": null,
       "min_width": null,
       "object_fit": null,
       "object_position": null,
       "order": null,
       "overflow": null,
       "overflow_x": null,
       "overflow_y": null,
       "padding": null,
       "right": null,
       "top": null,
       "visibility": null,
       "width": null
      }
     },
     "bd0bd6ba5b714ed2ac68c13a61f0362e": {
      "model_module": "@jupyter-widgets/base",
      "model_module_version": "1.2.0",
      "model_name": "LayoutModel",
      "state": {
       "_model_module": "@jupyter-widgets/base",
       "_model_module_version": "1.2.0",
       "_model_name": "LayoutModel",
       "_view_count": null,
       "_view_module": "@jupyter-widgets/base",
       "_view_module_version": "1.2.0",
       "_view_name": "LayoutView",
       "align_content": null,
       "align_items": null,
       "align_self": null,
       "border": null,
       "bottom": null,
       "display": null,
       "flex": null,
       "flex_flow": null,
       "grid_area": null,
       "grid_auto_columns": null,
       "grid_auto_flow": null,
       "grid_auto_rows": null,
       "grid_column": null,
       "grid_gap": null,
       "grid_row": null,
       "grid_template_areas": null,
       "grid_template_columns": null,
       "grid_template_rows": null,
       "height": null,
       "justify_content": null,
       "justify_items": null,
       "left": null,
       "margin": null,
       "max_height": null,
       "max_width": null,
       "min_height": null,
       "min_width": null,
       "object_fit": null,
       "object_position": null,
       "order": null,
       "overflow": null,
       "overflow_x": null,
       "overflow_y": null,
       "padding": null,
       "right": null,
       "top": null,
       "visibility": null,
       "width": null
      }
     },
     "c0a2900a5b55481f9e599ff6fba2de3a": {
      "model_module": "@jupyter-widgets/base",
      "model_module_version": "1.2.0",
      "model_name": "LayoutModel",
      "state": {
       "_model_module": "@jupyter-widgets/base",
       "_model_module_version": "1.2.0",
       "_model_name": "LayoutModel",
       "_view_count": null,
       "_view_module": "@jupyter-widgets/base",
       "_view_module_version": "1.2.0",
       "_view_name": "LayoutView",
       "align_content": null,
       "align_items": null,
       "align_self": null,
       "border": null,
       "bottom": null,
       "display": null,
       "flex": null,
       "flex_flow": null,
       "grid_area": null,
       "grid_auto_columns": null,
       "grid_auto_flow": null,
       "grid_auto_rows": null,
       "grid_column": null,
       "grid_gap": null,
       "grid_row": null,
       "grid_template_areas": null,
       "grid_template_columns": null,
       "grid_template_rows": null,
       "height": null,
       "justify_content": null,
       "justify_items": null,
       "left": null,
       "margin": null,
       "max_height": null,
       "max_width": null,
       "min_height": null,
       "min_width": null,
       "object_fit": null,
       "object_position": null,
       "order": null,
       "overflow": null,
       "overflow_x": null,
       "overflow_y": null,
       "padding": null,
       "right": null,
       "top": null,
       "visibility": null,
       "width": null
      }
     },
     "c43c8d021ace460fbee80eaf360959dc": {
      "model_module": "@jupyter-widgets/base",
      "model_module_version": "1.2.0",
      "model_name": "LayoutModel",
      "state": {
       "_model_module": "@jupyter-widgets/base",
       "_model_module_version": "1.2.0",
       "_model_name": "LayoutModel",
       "_view_count": null,
       "_view_module": "@jupyter-widgets/base",
       "_view_module_version": "1.2.0",
       "_view_name": "LayoutView",
       "align_content": null,
       "align_items": null,
       "align_self": null,
       "border": null,
       "bottom": null,
       "display": null,
       "flex": null,
       "flex_flow": null,
       "grid_area": null,
       "grid_auto_columns": null,
       "grid_auto_flow": null,
       "grid_auto_rows": null,
       "grid_column": null,
       "grid_gap": null,
       "grid_row": null,
       "grid_template_areas": null,
       "grid_template_columns": null,
       "grid_template_rows": null,
       "height": null,
       "justify_content": null,
       "justify_items": null,
       "left": null,
       "margin": null,
       "max_height": null,
       "max_width": null,
       "min_height": null,
       "min_width": null,
       "object_fit": null,
       "object_position": null,
       "order": null,
       "overflow": null,
       "overflow_x": null,
       "overflow_y": null,
       "padding": null,
       "right": null,
       "top": null,
       "visibility": null,
       "width": null
      }
     },
     "c9250283517a4ab3a3eccce5f6e5c2ea": {
      "model_module": "@jupyter-widgets/controls",
      "model_module_version": "1.5.0",
      "model_name": "FloatProgressModel",
      "state": {
       "_dom_classes": [],
       "_model_module": "@jupyter-widgets/controls",
       "_model_module_version": "1.5.0",
       "_model_name": "FloatProgressModel",
       "_view_count": null,
       "_view_module": "@jupyter-widgets/controls",
       "_view_module_version": "1.5.0",
       "_view_name": "ProgressView",
       "bar_style": "success",
       "description": "",
       "description_tooltip": null,
       "layout": "IPY_MODEL_bc43a34f389e46289e9ba4e518e4e231",
       "max": 891691430.0,
       "min": 0.0,
       "orientation": "horizontal",
       "style": "IPY_MODEL_776e347506f045e89d58f013ffda5863",
       "value": 891691430.0
      }
     },
     "c9854739bde846d4895af079388bf66c": {
      "model_module": "@jupyter-widgets/controls",
      "model_module_version": "1.5.0",
      "model_name": "HTMLModel",
      "state": {
       "_dom_classes": [],
       "_model_module": "@jupyter-widgets/controls",
       "_model_module_version": "1.5.0",
       "_model_name": "HTMLModel",
       "_view_count": null,
       "_view_module": "@jupyter-widgets/controls",
       "_view_module_version": "1.5.0",
       "_view_name": "HTMLView",
       "description": "",
       "description_tooltip": null,
       "layout": "IPY_MODEL_c43c8d021ace460fbee80eaf360959dc",
       "placeholder": "​",
       "style": "IPY_MODEL_829c4eab3c714a2cb192f3932541c161",
       "value": "Downloading: 100%"
      }
     },
     "cc210d8b8ea84eb1acb3032cf4329ed4": {
      "model_module": "@jupyter-widgets/controls",
      "model_module_version": "1.5.0",
      "model_name": "FloatProgressModel",
      "state": {
       "_dom_classes": [],
       "_model_module": "@jupyter-widgets/controls",
       "_model_module_version": "1.5.0",
       "_model_name": "FloatProgressModel",
       "_view_count": null,
       "_view_module": "@jupyter-widgets/controls",
       "_view_module_version": "1.5.0",
       "_view_name": "ProgressView",
       "bar_style": "success",
       "description": "",
       "description_tooltip": null,
       "layout": "IPY_MODEL_e37466ef84294f82b1dc1ff749da705f",
       "max": 791656.0,
       "min": 0.0,
       "orientation": "horizontal",
       "style": "IPY_MODEL_fc58940087114dbab8253e20f4fd1d7d",
       "value": 791656.0
      }
     },
     "e37466ef84294f82b1dc1ff749da705f": {
      "model_module": "@jupyter-widgets/base",
      "model_module_version": "1.2.0",
      "model_name": "LayoutModel",
      "state": {
       "_model_module": "@jupyter-widgets/base",
       "_model_module_version": "1.2.0",
       "_model_name": "LayoutModel",
       "_view_count": null,
       "_view_module": "@jupyter-widgets/base",
       "_view_module_version": "1.2.0",
       "_view_name": "LayoutView",
       "align_content": null,
       "align_items": null,
       "align_self": null,
       "border": null,
       "bottom": null,
       "display": null,
       "flex": null,
       "flex_flow": null,
       "grid_area": null,
       "grid_auto_columns": null,
       "grid_auto_flow": null,
       "grid_auto_rows": null,
       "grid_column": null,
       "grid_gap": null,
       "grid_row": null,
       "grid_template_areas": null,
       "grid_template_columns": null,
       "grid_template_rows": null,
       "height": null,
       "justify_content": null,
       "justify_items": null,
       "left": null,
       "margin": null,
       "max_height": null,
       "max_width": null,
       "min_height": null,
       "min_width": null,
       "object_fit": null,
       "object_position": null,
       "order": null,
       "overflow": null,
       "overflow_x": null,
       "overflow_y": null,
       "padding": null,
       "right": null,
       "top": null,
       "visibility": null,
       "width": null
      }
     },
     "edcfb2ee07324723aba96e4d413cc632": {
      "model_module": "@jupyter-widgets/controls",
      "model_module_version": "1.5.0",
      "model_name": "HTMLModel",
      "state": {
       "_dom_classes": [],
       "_model_module": "@jupyter-widgets/controls",
       "_model_module_version": "1.5.0",
       "_model_name": "HTMLModel",
       "_view_count": null,
       "_view_module": "@jupyter-widgets/controls",
       "_view_module_version": "1.5.0",
       "_view_name": "HTMLView",
       "description": "",
       "description_tooltip": null,
       "layout": "IPY_MODEL_70e28391efac49c1a947103a7242b711",
       "placeholder": "​",
       "style": "IPY_MODEL_f2b6607e68cc49d686a88eac3bb7d04c",
       "value": " 850M/850M [00:39&lt;00:00, 22.6MB/s]"
      }
     },
     "f2b6607e68cc49d686a88eac3bb7d04c": {
      "model_module": "@jupyter-widgets/controls",
      "model_module_version": "1.5.0",
      "model_name": "DescriptionStyleModel",
      "state": {
       "_model_module": "@jupyter-widgets/controls",
       "_model_module_version": "1.5.0",
       "_model_name": "DescriptionStyleModel",
       "_view_count": null,
       "_view_module": "@jupyter-widgets/base",
       "_view_module_version": "1.2.0",
       "_view_name": "StyleView",
       "description_width": ""
      }
     },
     "fc58940087114dbab8253e20f4fd1d7d": {
      "model_module": "@jupyter-widgets/controls",
      "model_module_version": "1.5.0",
      "model_name": "ProgressStyleModel",
      "state": {
       "_model_module": "@jupyter-widgets/controls",
       "_model_module_version": "1.5.0",
       "_model_name": "ProgressStyleModel",
       "_view_count": null,
       "_view_module": "@jupyter-widgets/base",
       "_view_module_version": "1.2.0",
       "_view_name": "StyleView",
       "bar_color": null,
       "description_width": ""
      }
     }
    },
    "version_major": 2,
    "version_minor": 0
   }
  }
 },
 "nbformat": 4,
 "nbformat_minor": 5
}
